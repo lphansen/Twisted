{
 "cells": [
  {
   "cell_type": "markdown",
   "metadata": {},
   "source": [
    "# Twisted Probabilities, Uncertainty, and Prices\n",
    "by [Lars Peter Hansen](https://larspeterhansen.org/), [Bálint Szőke](https://www.balintszoke.com/), Lloyd S. Han and [Thomas J.Sargent](http://www.tomsargent.com/), you could find the latest draft [here](https://larspeterhansen.org/research/papers/). \n",
    "\n",
    "Notebook by Jiaming Wang\n",
    "\n",
    "The notebook presents interactive figures accompanying the paper to help readers better understand our paper. "
   ]
  },
  {
   "cell_type": "markdown",
   "metadata": {
    "toc": true
   },
   "source": [
    "<h1>Table of Contents<span class=\"tocSkip\"></span></h1>\n",
    "<div class=\"toc\"><ul class=\"toc-item\"><li><span><a href=\"#Sets-of-models\" data-toc-modified-id=\"Sets-of-models-1\"><span class=\"toc-item-num\">1&nbsp;&nbsp;</span>Sets of models</a></span><ul class=\"toc-item\"><li><span><a href=\"#Twisted-relative-entropy\" data-toc-modified-id=\"Twisted-relative-entropy-1.1\"><span class=\"toc-item-num\">1.1&nbsp;&nbsp;</span>Twisted relative entropy</a></span></li><li><span><a href=\"#Focusing-uncertainty\" data-toc-modified-id=\"Focusing-uncertainty-1.2\"><span class=\"toc-item-num\">1.2&nbsp;&nbsp;</span>Focusing uncertainty</a></span><ul class=\"toc-item\"><li><span><a href=\"#Figure-1-Projections-of-$\\mathcal{M}(\\xi)$-onto-the-parametric-class-indexed-by-$(\\alpha,-\\kappa)$-for-alternative-$\\xi$-functions\" data-toc-modified-id=\"Figure-1-Projections-of-$\\mathcal{M}(\\xi)$-onto-the-parametric-class-indexed-by-$(\\alpha,-\\kappa)$-for-alternative-$\\xi$-functions-1.2.1\"><span class=\"toc-item-num\">1.2.1&nbsp;&nbsp;</span>Figure 1 Projections of $\\mathcal{M}(\\xi)$ onto the parametric class indexed by $(\\alpha, \\kappa)$ for alternative $\\xi$ functions</a></span></li></ul></li><li><span><a href=\"#Worst-case-model\" data-toc-modified-id=\"Worst-case-model-1.3\"><span class=\"toc-item-num\">1.3&nbsp;&nbsp;</span>Worst-case model</a></span><ul class=\"toc-item\"><li><span><a href=\"#Figure-2-Iso-$\\varrho$-and-iso-value-curves-in-the-parametric-class-indexed-by-$(\\alpha,-\\kappa)$-for-different-twisting-functions\" data-toc-modified-id=\"Figure-2-Iso-$\\varrho$-and-iso-value-curves-in-the-parametric-class-indexed-by-$(\\alpha,-\\kappa)$-for-different-twisting-functions-1.3.1\"><span class=\"toc-item-num\">1.3.1&nbsp;&nbsp;</span>Figure 2 Iso-$\\varrho$ and iso-value curves in the parametric class indexed by $(\\alpha, \\kappa)$ for different twisting functions</a></span></li></ul></li></ul></li><li><span><a href=\"#Baseline-model\" data-toc-modified-id=\"Baseline-model-2\"><span class=\"toc-item-num\">2&nbsp;&nbsp;</span>Baseline model</a></span><ul class=\"toc-item\"><li><span><a href=\"#Setup\" data-toc-modified-id=\"Setup-2.1\"><span class=\"toc-item-num\">2.1&nbsp;&nbsp;</span>Setup</a></span></li><li><span><a href=\"#Calibration\" data-toc-modified-id=\"Calibration-2.2\"><span class=\"toc-item-num\">2.2&nbsp;&nbsp;</span>Calibration</a></span></li></ul></li><li><span><a href=\"#Single-capital-stock-case\" data-toc-modified-id=\"Single-capital-stock-case-3\"><span class=\"toc-item-num\">3&nbsp;&nbsp;</span>Single capital stock case</a></span><ul class=\"toc-item\"><li><span><a href=\"#Parameter-alternatives\" data-toc-modified-id=\"Parameter-alternatives-3.1\"><span class=\"toc-item-num\">3.1&nbsp;&nbsp;</span>Parameter alternatives</a></span></li><li><span><a href=\"#Figure-3:-Examples-of-twisting-functions--$\\xi^{[\\kappa]}$-and-$\\xi^{[\\beta]}$\" data-toc-modified-id=\"Figure-3:-Examples-of-twisting-functions--$\\xi^{[\\kappa]}$-and-$\\xi^{[\\beta]}$-3.2\"><span class=\"toc-item-num\">3.2&nbsp;&nbsp;</span>Figure 3: Examples of twisting functions  $\\xi^{[\\kappa]}$ and $\\xi^{[\\beta]}$</a></span></li></ul></li><li><span><a href=\"#Two-capital-stocks\" data-toc-modified-id=\"Two-capital-stocks-4\"><span class=\"toc-item-num\">4&nbsp;&nbsp;</span>Two capital stocks</a></span><ul class=\"toc-item\"><li><span><a href=\"#Setup\" data-toc-modified-id=\"Setup-4.1\"><span class=\"toc-item-num\">4.1&nbsp;&nbsp;</span>Setup</a></span></li><li><span><a href=\"#Symmetric-returns-to-two-capital-stocks\" data-toc-modified-id=\"Symmetric-returns-to-two-capital-stocks-4.2\"><span class=\"toc-item-num\">4.2&nbsp;&nbsp;</span>Symmetric returns to two capital stocks</a></span><ul class=\"toc-item\"><li><span><a href=\"#Figure-4:-Features-of-robust-controls-and-the-worst-case-model-with-ex-post-heterogeneity.\" data-toc-modified-id=\"Figure-4:-Features-of-robust-controls-and-the-worst-case-model-with-ex-post-heterogeneity.-4.2.1\"><span class=\"toc-item-num\">4.2.1&nbsp;&nbsp;</span>Figure 4: Features of robust controls and the worst-case model with <strong>ex post</strong> heterogeneity.</a></span></li></ul></li><li><span><a href=\"#Asymmetric-returns-to-two-capital-stocks\" data-toc-modified-id=\"Asymmetric-returns-to-two-capital-stocks-4.3\"><span class=\"toc-item-num\">4.3&nbsp;&nbsp;</span>Asymmetric returns to two capital stocks</a></span><ul class=\"toc-item\"><li><span><a href=\"#Figure-6:-Features-of-robust-controls-and-the-worst-case-model-with-ex-ante-heterogeneity.\" data-toc-modified-id=\"Figure-6:-Features-of-robust-controls-and-the-worst-case-model-with-ex-ante-heterogeneity.-4.3.1\"><span class=\"toc-item-num\">4.3.1&nbsp;&nbsp;</span>Figure 6: Features of robust controls and the worst-case model with <strong>ex ante</strong> heterogeneity.</a></span></li></ul></li><li><span><a href=\"#Generalized-impulse-response-functions-(IRFS)\" data-toc-modified-id=\"Generalized-impulse-response-functions-(IRFS)-4.4\"><span class=\"toc-item-num\">4.4&nbsp;&nbsp;</span>Generalized impulse response functions (IRFS)</a></span><ul class=\"toc-item\"><li><span><a href=\"#Figure-5:-Impulse-response-functions-(IRFs)-of-$R$-to-the-second-idiosyncratic-shock-with-symmetric-and-asymmetric-returns\" data-toc-modified-id=\"Figure-5:-Impulse-response-functions-(IRFs)-of-$R$-to-the-second-idiosyncratic-shock-with-symmetric-and-asymmetric-returns-4.4.1\"><span class=\"toc-item-num\">4.4.1&nbsp;&nbsp;</span>Figure 5: Impulse response functions (IRFs) of $R$ to the second idiosyncratic shock with symmetric and asymmetric returns</a></span></li><li><span><a href=\"#Figure-7:-Drift-of-Long-run-risk-state-and-IRFs-of-Z\" data-toc-modified-id=\"Figure-7:-Drift-of-Long-run-risk-state-and-IRFs-of-Z-4.4.2\"><span class=\"toc-item-num\">4.4.2&nbsp;&nbsp;</span>Figure 7: Drift of Long run risk state and IRFs of Z</a></span></li></ul></li></ul></li><li><span><a href=\"#Price-of-model-uncertainty\" data-toc-modified-id=\"Price-of-model-uncertainty-5\"><span class=\"toc-item-num\">5&nbsp;&nbsp;</span>Price of model uncertainty</a></span><ul class=\"toc-item\"><li><span><a href=\"#An-affine-stochastic-discount-factor\" data-toc-modified-id=\"An-affine-stochastic-discount-factor-5.1\"><span class=\"toc-item-num\">5.1&nbsp;&nbsp;</span>An affine stochastic discount factor</a></span><ul class=\"toc-item\"><li><span><a href=\"#Figure-8:-Local-uncertainty-prices-of-capital-shock-and-long-run-risk-shock\" data-toc-modified-id=\"Figure-8:-Local-uncertainty-prices-of-capital-shock-and-long-run-risk-shock-5.1.1\"><span class=\"toc-item-num\">5.1.1&nbsp;&nbsp;</span>Figure 8: Local uncertainty prices of capital shock and long-run risk shock</a></span></li></ul></li><li><span><a href=\"#Economies-with-two-capital-stocks\" data-toc-modified-id=\"Economies-with-two-capital-stocks-5.2\"><span class=\"toc-item-num\">5.2&nbsp;&nbsp;</span>Economies with two capital stocks</a></span><ul class=\"toc-item\"><li><span><a href=\"#Figure-9:-Stationary-densities-of-local-uncertainty-prices\" data-toc-modified-id=\"Figure-9:-Stationary-densities-of-local-uncertainty-prices-5.2.1\"><span class=\"toc-item-num\">5.2.1&nbsp;&nbsp;</span>Figure 9: Stationary densities of local uncertainty prices</a></span></li></ul></li></ul></li></ul></div>"
   ]
  },
  {
   "cell_type": "code",
   "execution_count": null,
   "metadata": {
    "ExecuteTime": {
     "end_time": "2020-01-28T16:42:38.201062Z",
     "start_time": "2020-01-28T16:42:35.137195Z"
    }
   },
   "outputs": [],
   "source": [
    "from figs_utils_new import *\n",
    "%matplotlib inline\n",
    "from IPython.core.display import display\n",
    "from ipywidgets import widgets\n",
    "\n",
    "p = plottingmodule()"
   ]
  },
  {
   "cell_type": "markdown",
   "metadata": {},
   "source": [
    "## Sets of models\n",
    "### Twisted relative entropy\n",
    "We use entropy relative to the probability implied by baseline model $(1)$ delineate a set of statistically nearby models. \n",
    "\n",
    "\\begin{equation}\n",
    "d X_t  = {\\widehat \\mu}(X_t) dt +  \\sigma(X_t) dW_t, \\tag{1}\n",
    "\\end{equation}\n",
    "\n",
    "For a martingale process $M^H$ with respect to baseline model, we can write its conditional mean in terms of a history of local means:\n",
    "\n",
    "\\begin{align}\n",
    "E\\left[ M_t^H \\log M_t^H  \\ \\mid \\ {\\mathcal F}_0 \\right] & = {\\frac 1 2} E\\left(  \\int_0^t M^H_\\tau |H_\\tau|^2 d\\tau \\ \\vert \\ {\\mathcal F}_0 \\right).\n",
    "\\end{align}\n",
    "\n",
    "<p style='text-align: justify;'>To obtain a notion of <em><b>relative entropy</b></em> of a martingale process $M^H$ with respect to baseline model $(1)$, we divide by $t$ and let $t$ go to infinity, which leads to the following <em><b>relative entropy</b></em> of a martingale process $M^H$ with respect to baseline model $(1)$:</p>\n",
    "\n",
    "\\begin{align}\\tag{2}\n",
    "\\Delta^*\\left(M^H \\right)  & \\doteq \\lim_{t \\rightarrow \\infty} \\ {\\frac 1 {2t}}  E\\left(  \\int_0^t M^H_\\tau |H_\\tau|^2 d\\tau \\ \\vert  \\ {\\mathcal F}_0 \\right) \\cr\n",
    "& \\ = \\lim_{\\delta \\downarrow 0} \\ \\frac{\\delta}{2} E\\left(  \\int_0^\\infty \\exp(- \\delta \\tau) M^H_\\tau |H_\\tau |^2 d\\tau \\ \\vert \\ {\\mathcal F}_0 \\right) .\n",
    "\\end{align}\n",
    "\n",
    "<p style='text-align: justify;'> The second equality expresses relative entropy as an exponentially discounted mean, where scaling by $\\delta$ makes the weights integrate to one.\n",
    "This equivalence motivates us to define <em><b>discounted relative entropy</b></em></p>:\n",
    "\n",
    "\\begin{align*}\n",
    "\\Delta\\left(M^H \\ \\mid \\ \\mathcal F_0 \\right) \\doteq \\frac{\\delta}{2}E\\left( \\int_0^{\\infty} \\exp(-\\delta \\tau) M^H_{\\tau}|H_{\\tau}|^2 d\\tau  \\ \\vert \\ \\mathcal F_0\\right) .\n",
    "\\end{align*}\n",
    "where $\\delta$ is subjective discount rate"
   ]
  },
  {
   "cell_type": "markdown",
   "metadata": {},
   "source": [
    "For a constant $\\zeta\\in\\mathbb{R}_+$, [Hansen and Sargent(2001)](http://www.tomsargent.com/research/aea06.pdf) used the inequality\n",
    "\\begin{align}\\tag{3}\n",
    "\\Delta(M^H \\mid \\ \\mathcal F_0) \\leq \\zeta\n",
    "\\end{align}\n",
    "<p style='text-align: justify;'> to construct a set of alternative models across which a decision maker seeks robustness.\n",
    "In this paper, we describe how  the decision maker can insist that a set include specific worrisome models.\n",
    " To articulate specification doubts about particular parametric alternatives in this way, we use a continuous time analogue to a discrete time method of <a href=\"http://users.cecs.anu.edu.au/~Matthew.James/pubs/pjd1.pdf\">Petersen et. al(2000)</a>. We use  a non-negative function of the state variable $\\xi(X)$ -- call it a  <em><b>twisting function</b></em> to define <em><b>twisted relative entropy</b></em>:</p>\n",
    "\n",
    "\\begin{align}\n",
    "\\varrho\\left(M^H; \\xi \\mid \\mathcal F_0\\right) \\doteq \\frac{\\delta}{2}E\\left(\\int \\exp(-\\delta \\tau)M^H_{\\tau}[|H_{\\tau}|^2 - \\xi(X_{\\tau})]d\\tau \\mid \\mathcal F_0 \\right).\n",
    "\\end{align}\n",
    "\n",
    "<p style='text-align: justify;'>Properties  that facilitate our analysis are: (i)  $\\varrho$ is convex in $M^H$, (ii) $\\varrho$ can readily be computed.we bound the discrepancy measure $\\varrho$ to define a convex set of martingale processes:</p>\n",
    "\n",
    "\\begin{align}\\tag{4}\n",
    "\\mathcal M(\\xi) \\doteq \\left\\{ M^H\\in \\mathcal M \\ : \\ \\varrho\\left(M^H; \\xi \\mid \\mathcal F_0\\right)\\leq 0\\right\\}\n",
    "\\end{align}\n",
    "\n",
    "<p style='text-align: justify;'>The special case $\\xi(x)=2\\zeta$ implies a constraint on martingales $M^H$ equivalent with $(3)$, so $\\mathcal{M}(\\xi)$ with a constant twisting function can be viewed as a Hansen-Sargent discounted relative entropy ball.</p>"
   ]
  },
  {
   "cell_type": "markdown",
   "metadata": {},
   "source": [
    "### Focusing uncertainty\n",
    "<p style='text-align: justify;'> A state-dependent twisting function brings an interesting interpretation. Suppose that the decision maker has a particular parametric alternative in mind -- call it  a worrisome model -- that she includes in the set because she wants an  evaluation under this model. To highlight the special role of this worrisome alternative, we reserve the notation $\\widetilde{S}$ to denote its martingale process $M^{\\widetilde{S}}$. When this special worrisome model is Markov, $|\\widetilde{S}_t|^2$ can be written as $\\xi(X_t)$ and its discounted relative entropy is </p>\n",
    "\\begin{align*}\n",
    "\\Delta\\left(M^{\\widetilde{S}} \\mid \\mathcal F_0 \\right) = \\frac{\\delta}{2} \\int\\exp(-\\delta \\tau) E\\left(M^{\\widetilde S}_{\\tau} \\xi(X_{\\tau}) \\mid \\mathcal F_0\\right)d\\tau.\n",
    "\\end{align*}\n",
    "\n",
    "Consequently, by restricting the decision maker's set of models with the inequality\n",
    "\\begin{align} \\label{eqn:newstar}\n",
    "\\frac{\\delta}{2}\\int \\exp(-\\delta \\tau)E\\left(M^{H}_{\\tau} \\left| H_{\\tau} \\right|^2 \\mid \\mathcal F_0 \\right)d\\tau \\leq \\frac{\\delta}{2}\\int \\exp(-\\delta \\tau)E\\left(M^{H}_{\\tau} \\xi(X_{\\tau}) \\mid \\mathcal F_0\\right)d\\tau,\n",
    "\\end{align}\n",
    "\n",
    "<p style='text-align: justify;'> we ensure that $M^{\\widetilde S}$ is included  because $H = \\widetilde{S}$\n",
    "satisfies  with equality the  constraint that appears on the right side of equation $(4)$. Moving the expression on the right  side to the left leads to the inequality constraint of $(4)$. </p>\n",
    "\n",
    "<p style='text-align: justify;'> The twisting function can express misspecification doubts about models with parametric forms that differ from that of the baseline model.\n",
    "However,  in our examples we shall focus on an important special case that we call <em><b>parameter uncertainty</b></em> in  which both  the baseline model and the worrisome model shaping the twisting function $\\xi$  belong to the same parametric class. </p>\n",
    "\n",
    "<p style='text-align: justify;'>Thus, consider the following example. Let the baseline model have an affine drift $\\widehat{\\mu}(x)= \\widehat{\\alpha} - \\widehat{\\kappa} x$ and a constant volatility  $\\sigma(x)=\\sigma$. Consider models  with the same functional form as the baseline model but different $(\\alpha, \\kappa)$ values. For a given worrisome model $(\\widetilde{\\alpha}, \\widetilde{\\kappa})$ from this class, set </p>\n",
    "\n",
    "\\begin{align*}\n",
    " \\widetilde{\\eta}(x) = \\frac{\\widetilde\\alpha - \\widehat\\alpha}{\\sigma} + \\frac{\\widehat\\kappa - \\widetilde\\kappa}{\\sigma}x\n",
    "\\end{align*}\n",
    "\n",
    "and form the twisting function $\\xi(x)=\\widetilde{\\eta}(x)^2$, namely,\n",
    "\n",
    "\\begin{align}\\tag{5}\n",
    "\\xi(x) = \\xi_0 + 2\\xi_1 x + \\xi_2 x^2 \\ \\dot = \\ \\left(\\frac{\\widetilde\\alpha - \\widehat\\alpha}{\\sigma}\\right)^2 + 2\\left(\\frac{\\widetilde\\alpha - \\widehat\\alpha}{\\sigma}\\right)\\left(\\frac{\\widehat\\kappa - \\widetilde\\kappa}{\\sigma}\\right) x + \\left(\\frac{\\widehat\\kappa - \\widetilde\\kappa}{\\sigma}\\right)^2x^2.\n",
    "\\end{align}\n",
    "\n",
    "<p style='text-align: justify;'>By construction, the  set $\\mathcal{M}(\\xi)$ includes the $(\\widetilde\\alpha, \\widetilde\\kappa)$ model among many other models whose $\\varrho$ discrepancies from the baseline model are smaller than that of $(\\widetilde\\alpha, \\widetilde\\kappa)$. The quadratic twisting function $(5)$ can be decomposed into a constant and a state-dependent part: $\\xi(X_t) =\\xi_0 + \\widetilde{\\xi}(X_t)$. The constant $\\xi_0$ affects every alternative model's $\\varrho$ measure in the same way, which invites us to reinterpret the untwisted relative entropy ball of as a set that includes a particular worrisome model that differs from the baseline only in its intercept term.<p style='text-align: justify;'>\n",
    "\n",
    "<p style='text-align: justify;'>Projecting the set $\\mathcal{M}(\\xi)$ defined in $(4)$ onto the parametric model class indexed by $(\\alpha, \\kappa)$\n",
    "tells the sense in which the function $\\xi$ expresses a decision maker's concern about  particular parametric alternatives. <b>Figure 1</b> represents such projections of $\\mathcal{M}(\\xi)$ for alternative parameterizations of the quadratic $\\xi$ function that we construct in equation $(5)$.<p style='text-align: justify;'>"
   ]
  },
  {
   "cell_type": "markdown",
   "metadata": {},
   "source": [
    "#### Figure 1 Projections of $\\mathcal{M}(\\xi)$ onto the parametric class indexed by $(\\alpha, \\kappa)$ for alternative $\\xi$ functions\n",
    "The baseline parameters are $(\\widehat{\\alpha},\\widehat{\\kappa}, \\sigma) = (0, 0.169, 0.195)$. Twisted relative entropy is evaluated using $X_0=0$ as the initial state. \n",
    "<ul>\n",
    "\n",
    "<li style='text-align: justify;'> <b>Left panel</b> represents parametric models with specific $\\alpha$ values within the set $\\mathcal{M}(\\xi)$ (equivalently entropy ball of <a href=\"http://www.tomsargent.com/research/aea06.pdf\">Hansen and Sargent(2001)</a>). The blue dot depict such model having the same persistence parameter $\\kappa$ as the baseline with different higher $\\xi_0$ values.</p></li>\n",
    "\n",
    "<li style='text-align: justify;'> <b>Right panel</b> shows how a state-dependent $\\xi$ changes this situation. By setting $\\widetilde{\\kappa}$ and constructing the implied $\\mathcal{M}(\\xi)$, we can endow a decision maker with especial fears of specific amounts of persistence. The blue dot represents a worrisome model with a more persistent state (lower $\\widetilde{\\kappa}$) than the baseline. Similarly, fear of a combination of high persistence and low mean can be modeled by setting the pair $(\\widetilde{\\alpha}, \\widetilde{\\kappa})$. </li>\n",
    "</ul>\n",
    "<p style='text-align: justify;'> Shaded region, induced by a different $\\xi$, denotes those elements of the parametric class that are included in $\\mathcal{M}(\\xi)$. The solid lines are iso-$\\varrho$ curves associated with $\\varrho=0$.</p>\n",
    "\n",
    "__User may use sliders changing $\\widetilde{\\alpha}$ to see how iso-$\\varrho$ curve and $\\mathcal{M}(\\xi)$ evolve given $\\widetilde{\\alpha}$ unchanged.__"
   ]
  },
  {
   "cell_type": "code",
   "execution_count": null,
   "metadata": {
    "ExecuteTime": {
     "end_time": "2020-01-28T16:42:40.388807Z",
     "start_time": "2020-01-28T16:42:38.203083Z"
    }
   },
   "outputs": [],
   "source": [
    "f1_l = p.const_tilt_plot()\n",
    "f1_r = p.quad_tilt_plot()\n",
    "display(widgets.HBox([f1_l,f1_r]))"
   ]
  },
  {
   "cell_type": "markdown",
   "metadata": {},
   "source": [
    "### Worst-case model\n",
    "\n",
    "<p style='text-align: justify;'> We illustrate how features of the worst-case $H^*$ hinge on the twisting function $\\xi$ by extending the section 1.2 example. As before, suppose that the baseline for the state $X$ is affine and is hit by a single Brownian shock $W$</p>\n",
    "\n",
    "\\begin{align}\n",
    "dX_t = \\left(\\widehat{\\alpha} - \\widehat{\\kappa} X_t\\right)dt + \\sigma dW_t .\n",
    "\\end{align}\n",
    "\n",
    "<p style='text-align: justify;'>The decision maker cares about her consumption process $C$ with period utility $\\upsilon(C)=\\delta \\log C$. Suppose that she contemplates a particular policy indexed by $(\\bar\\alpha_c, \\bar \\beta)$ that, for a given $X$ process, implies the following consumption dynamics.</p>\n",
    "\n",
    "\\begin{align*}\\tag{6}\n",
    "d\\log C_t = \\left(\\bar\\alpha_c + \\bar \\beta X_t\\right)dt.\n",
    "\\end{align*}\n",
    "\n",
    "<p style='text-align: justify;'>The agent takes $(\\bar\\alpha_c, \\bar \\beta)$ as given but wants to investigate the policy's fragility to misspecifications of  the state dynamics $(6)$ by computing a worst-case model associated with consumption policy $d = (\\bar\\alpha_c, \\bar \\beta)$. </p>\n",
    "\n",
    "<p style='text-align: justify;'>As in section 1.2, we use a quadratic $\\xi$ to focus the agent's uncertainty about  parameters $\\left(\\hat{\\alpha}, \\hat{\\kappa}\\right)$. Appealing to formulas from Appendix C, we find that $H^*$ is affine in $X$, so  the worst-case model belongs to the parametric family of the baseline indexed by $(\\alpha, \\kappa)$. This allows us to use our projection exercise from section 1.2 to produce Figure 2 which is designed to highlight the effect of $\\xi$ on the worst-case model associated with the proposed policy.</p>"
   ]
  },
  {
   "cell_type": "markdown",
   "metadata": {},
   "source": [
    "#### Figure 2 Iso-$\\varrho$ and iso-value curves in the parametric class indexed by $(\\alpha, \\kappa)$ for different twisting functions\n",
    "<p style='text-align: justify;'> The locus of points of tangency between these curves shows  worst-case models for a sequence of constant $\\xi$ (<em>left</em>) and for a sequence of state-dependent $\\xi$ (<em>right</em>). Baseline model parameters are $(\\widehat{\\alpha},\\widehat{\\kappa}, \\sigma) = (0, 0.169, 0.195)$, the policy is $(\\bar{\\alpha}_c, \\bar{\\beta})=(0.499, 1)$. We evaluate the iso-$\\varrho$ and iso-value curves using $X_0=0$ as the initial state. \n",
    "<ul>\n",
    "<li> <font color='#636efa'>blue dot:</font> represents baseline model where $(\\widehat{\\alpha},\\widehat{\\kappa}, \\sigma) = (0, 0.169, 0.195)$ </li> \n",
    "<li>  <font color='#00cc96'>green dot:</font> represents worrisome model of investor concerns </li> \n",
    "<li>  <font color='#FFA15A'>orange dot:</font> represents worst-case model model associated with consumption policy $(\\bar{\\alpha}_c, \\bar{\\beta})=(0.499, 1)$ </li> \n",
    "<li>  <font color='grey'>grey dash-dot:</font> denotes worrisome models as convex combinations of the baseline and <em>left panel</em>: $(\\widetilde\\alpha, \\widetilde\\kappa) = (-0.03, 0.169)$ models; <em>right panel</em> : $(\\widetilde\\alpha, \\widetilde\\kappa) = (-0.01, 0.07)$ models; Here we show in the sliders the values of $\\widetilde\\alpha$ along the worrisome model expansion path. </li> \n",
    "<li>  <font color='red'>red dash-dot:</font> shows the expansion path for worst-case models. </li> \n",
    "<li>  <font color='grey'>grey thin lines:</font> are iso-value curves representing those $(\\alpha, \\kappa)$ pairs to which the decision maker is indifferent at time $0$ when she follows  policy $\\left(\\bar{\\alpha}_c, \\bar{\\beta}\\right)$.</li> \n",
    "<li>  <font color='blue'>blue (left)</font> and __black (right)__ line and shaded area represent parametric models with specific $\\alpha$ values within the set $\\mathcal{M}(\\xi)$. </li> \n",
    "</ul>\n",
    "<b>User may use sliders to see how iso-$\\varrho$ curve and $\\mathcal{M}(\\xi)$ as $\\widetilde{\\alpha}$ alters</b></p>"
   ]
  },
  {
   "cell_type": "code",
   "execution_count": null,
   "metadata": {
    "ExecuteTime": {
     "end_time": "2020-01-28T16:42:45.272086Z",
     "start_time": "2020-01-28T16:42:40.390771Z"
    },
    "scrolled": false
   },
   "outputs": [],
   "source": [
    "f2_l = p.intercept_plot()\n",
    "f2_r = p.persistence_plot()  # line shifts as eclipse moves\n",
    "display(widgets.HBox([f2_l,f2_r]))"
   ]
  },
  {
   "cell_type": "markdown",
   "metadata": {},
   "source": [
    "<p style='text-align: justify;'> Figure 2 shows forcefully why it matters that a state-dependent twisting function $\\xi$ alters  shapes of iso-$\\varrho$ curves and thereby positions of models relative to the baseline.  The minimizing agent exhausts his <em>entropy budget</em>, so a worst-case model lies on the boundary of the set: it is determined by points of tangency  between iso-value curves and the boundary of $\\mathcal{M}(\\xi)$. The left panel shows the expansion path with respect to entropy  as defined by <a href=\"http://www.tomsargent.com/research/aea06.pdf\">Hansen and Sargent(2001)</a> when the decision maker considers unstructured alternatives  to her baseline model. The resulting worst-case models impart negative shifts to the intercept of $X$, but leave the persistence parameter $\\kappa$ at its baseline level. On the other hand, the right panel shows the expansion path  when the decision maker includes   particular worrisome models that focus misspecification doubts on persistence. This makes  worst-case state dynamics exhibit enhanced persistence. </p>\n",
    "\n",
    "<p style='text-align: justify;'> Utility increases as we move north. Evidently, the decision maker views persistence of $X$ asymmetrically: when $\\alpha<0$, increasing persistence (lowering $\\kappa$) decreases utility, but the opposite is true when $\\alpha>0$. </p>"
   ]
  },
  {
   "cell_type": "markdown",
   "metadata": {},
   "source": [
    "## Baseline model"
   ]
  },
  {
   "cell_type": "markdown",
   "metadata": {},
   "source": [
    "### Setup\n",
    "\n",
    "<p style='text-align: justify;'>Aggregate output is proportional to a single capital stock with a constant productivity parameter $\\mathcal{A}$. A representative household cares about consumption $C$ with instantaneous utility $\\delta\\log C$. Under the baseline model, investment $I$ affects capital $K$ according to</p>\n",
    "\n",
    "\\begin{align}\n",
    "dK_t &= \\left[\\frac{I_t}{K_t} - \\frac{\\phi}{2}\\left(\\frac{I_t}{K_t}\\right)^2 + (.01)\\left(\\widehat \\alpha_k + \\widehat \\beta Z_t \\right)\\right]K_t dt + (.01)\\sigma_k K_t\\cdot dW_t \\label{eqn:model}\\\\\n",
    "dZ_t &= \\left(\\widehat\\alpha_z -\\widehat \\kappa Z_t \\right)dt + \\sigma_z \\cdot dW_t \\nonumber\n",
    "\\tag{1}\n",
    "\\end{align}\n",
    "\n",
    "<p style='text-align: justify;'>with adjustment cost parameter $\\phi$. With zero investment, the rate of change of capital is $(.01)\\left(\\widehat\\alpha_k + \\widehat\\beta Z_t\\right)$, where $Z$ is an exogenously specified continuous-time scalar autoregressive process  that puts long-term risks into  returns on capital. Under baseline model $(1)$, the mean of $Z$ is  ${\\overline z} = {\\frac {{\\widehat \\alpha}_z} {{\\widehat \\kappa}}}$.</p>\n",
    "\n",
    "<p style='text-align: justify;'>he aggregate resource constraint is $C + I = {\\cal A} K$. It is convenient to pose a robust planner's problem in terms of an investment-capital ratio $D_t \\doteq\\frac{I_t}{K_t}$ and $\\log K_t$ that satisfy</p>\n",
    "\n",
    "\\begin{align*}\n",
    "d \\log K_t = \\left[D_t - \\frac{\\phi}{2}\\left(D_t\\right)^2 + (.01)\\left(\\widehat \\alpha_k + \\widehat \\beta Z_t \\right) - {\\frac {(.01)^2 |\\sigma_k|^2}{2}} \\right] dt + (.01)\\sigma_k \\cdot dW_t.\n",
    "\\end{align*}\n",
    "\n",
    "Denote state variable as $X_t = [\\log K_t,\\ Z_t]'$ and instantaneous utility function\n",
    "\n",
    "\\begin{align*}\n",
    "\\upsilon(X_t, D_t) = \\delta\\log\\left({\\mathcal A}- D_t\\right) + \\delta\\log K_t.\n",
    "\\end{align*}\n",
    "\n"
   ]
  },
  {
   "cell_type": "markdown",
   "metadata": {},
   "source": [
    "### Calibration"
   ]
  },
  {
   "cell_type": "markdown",
   "metadata": {},
   "source": [
    "<p style='text-align: justify;'>The basis of our quantitative analysis is an empirical model of  aggregate consumption dynamics. Our code for VAR estimation could be found in <em><b>VAR Estimation</b></em> section of Git hub repository <a href=\"https://github.com/lphansen/TenuousBeliefs\">Tenuous Belief</a>.</p>\n",
    "\n",
    "<p style='text-align: justify;'>We follow <a href = \"http://larspeterhansen.org/wp-content/uploads/2016/10/Consumption-Strikes-Back-Measuring-Long-Run-Risk.pdf\">Hansen et al. (2008) </a> by fitting a trivariate VAR for macroeconomic time series that contain information about long-term consumption growth, namely,\n",
    "log consumption growth, the difference between logs of business income and consumption, and the difference between logs of personal dividend income and\n",
    "consumption.</p>\n",
    "\n",
    "<p style='text-align: justify;'>The time series are quarterly data from 1948 Q1 to 2018 Q2. Our consumption measure is per capita consumption of non-durables and services from NIPA Table 1.1.5. Business income is measured as proprietor's income plus corporate profits per capita and the series are from NIPA Table 1.12. Personal dividend income is from NIPA Table 2.1. By including proprietors' income in addition to corporate profits, we use a broader measure of business income than <a href = \"http://larspeterhansen.org/wp-content/uploads/2016/10/Consumption-Strikes-Back-Measuring-Long-Run-Risk.pdf\">Hansen et al. (2008) </a> , who used only corporate profits. Moreover, <a href = \"http://larspeterhansen.org/wp-content/uploads/2016/10/Consumption-Strikes-Back-Measuring-Long-Run-Risk.pdf\">Hansen et al. (2008) </a>  did not include  personal dividends in their VAR analysis.\n",
    "We restrict  all three time series to have a common martingale component by imposing a known cointegration relation among them.</p>\n",
    "\n",
    "<p style='text-align: justify;'>We convert the discrete time VAR estimates to baseline parameters $({\\widehat \\alpha}_k,  {\\widehat \\beta}, {\\widehat \\alpha}_z, {\\widehat \\kappa} )$ and $(\\sigma_c, \\sigma_z)$ by setting ${\\widehat \\alpha}_z=0$ and $\\widehat{\\beta}=1$ and matching the dynamics of the VAR implied long-term consumption growth forecast with those of $Z$.\n",
    "As a result, we obtain the following parameters for the baseline model of consumption $(1)$:</p>\n",
    "\n",
    "\\begin{align} \n",
    "& \\begin{matrix}\n",
    "{\\widehat \\alpha}_c  & = & .484 & & {\\widehat \\beta} &= &1 \\cr\n",
    "{\\widehat \\alpha}_z  &= & 0 &  & {\\widehat \\kappa} & = & .014 \\end{matrix} \\cr\n",
    "& \\sigma = \\begin{bmatrix}\n",
    "(\\sigma_c)' \\cr (\\sigma_z)' \\end{bmatrix}  =  \\begin{bmatrix} .477 & 0 \\cr  .011 & .025 \\end{bmatrix} .\n",
    "\\label{estimations}\n",
    "\\end{align}\n",
    "\n",
    "We set the household's subjective discount rate equal to $\\delta=.002.$\n",
    "\n",
    "<p style='text-align: justify;'>In more detail, we choose $\\widehat{\\alpha}_c$ and $(1-\\widehat{\\kappa})$ to match the VAR implied unconditional mean of consumption growth and autoregressive coefficient of expected long-term consumption growth, respectively. In addition, we set $(\\sigma_c, \\sigma_z)$ such that $(1, \\widehat{\\kappa}^{-1})\\sigma\\sigma'(1, \\widehat{\\kappa}^{-1})'$ is equal to the VAR implied covariance matrix of the one-step-ahead forecast error for consumption growth and expected long-term consumption growth. We achieve identification by imposing a lower triangular structure with positive diagonal elements on $\\sigma$.</p>"
   ]
  },
  {
   "cell_type": "markdown",
   "metadata": {},
   "source": [
    "## Single capital stock case\n",
    "\n",
    "__For details and codes solving single capital stock model please refer to our another notebook [single_capital](single_capital.ipynb)__\n"
   ]
  },
  {
   "cell_type": "markdown",
   "metadata": {},
   "source": [
    "### Parameter alternatives\n",
    "\n",
    "A planner is concerned about  alternative models for  capital evolution than baseline model $(1)$ in the following parametric class\n",
    "\n",
    "\\begin{align}\n",
    "d \\log K_t &= \\left[D_t - \\frac{\\phi}{2}\\left(D_t\\right)^2 + (.01)\\left( \\alpha_k +  \\beta Z_t \\right) - {\\frac {(.01)^2 |\\sigma_k|^2}2 } \\right] dt + (.01)\\sigma_k \\cdot dW^H_t \\label{eqn:model2} \\\\\n",
    "dZ_t &= \\left(\\alpha_z - \\kappa Z_t \\right)dt + \\sigma_z \\cdot dW^H_t \\nonumber\n",
    "\\tag{2}\n",
    "\\end{align}\n",
    "\n",
    "where $W^H$ denotes a distorted shock process of the form:\n",
    "\n",
    "\\begin{equation}\n",
    "dW_t = H_t dt + d{W}_t^H,\n",
    "\\end{equation}\n",
    "\n",
    "<p style='text-align: justify;'>Uncertainty about $(\\alpha_k,\\beta)$ describes unknown components in  returns to investment while uncertainty about $(\\alpha_z,\\kappa)$ captures an unknown growth evolution process. We represent a model of the form $(2)$ by restricting the drift distortion $H$ for $W$ to satisfy</p>\n",
    "\n",
    "\\begin{equation}\\label{eq:affine_drift}\n",
    "H_t = \\eta(X_t) \\doteq {\\eta }_0  + {\\eta }_1 Z_t\n",
    "\\end{equation}\n",
    "\n",
    "and using $(1)$  and  $(2)$ to deduce the following restrictions on $\\eta_0$ and $\\eta_1$ as functions of $(\\alpha_k, \\beta, \\alpha_z,  \\kappa)$:\n",
    "\\begin{align}\n",
    "\\sigma {\\eta}_0  = \\begin{bmatrix} {\\alpha}_k - {\\widehat \\alpha}_k \\cr {\\alpha}_z  -{\\widehat \\alpha}_z \\end{bmatrix}, \\hspace{2cm}\n",
    "\\sigma {\\eta}_1  = \\begin{bmatrix} \\beta - {\\widehat \\beta}  \\cr {\\widehat \\kappa} - { \\kappa}  \\end{bmatrix}\n",
    "\\tag{3}\n",
    "\\end{align}\n",
    "where\n",
    "\\begin{align}\n",
    "\\sigma \\doteq \\begin{bmatrix} (\\sigma_k)' \\cr (\\sigma_z)' \\end{bmatrix} .\n",
    "\\end{align}\n",
    "\n",
    "Pairs $(\\eta_0, \\eta_1)$ that satisfy restrictions $(3)$ represent models having parametric form $(2)$."
   ]
  },
  {
   "cell_type": "markdown",
   "metadata": {},
   "source": [
    "<p style='text-align: justify;'>We restrict the set of alternative models by using a quadratic twisting function $\\xi(z)$. Following the method of section 3.2.1 we ensure that the set $\\mathcal{M}(\\xi)$ includes a prespecified quartet $({\\widetilde \\alpha}_k, {\\widetilde \\beta}, {\\widetilde \\alpha}_z, {\\widetilde \\kappa})$ by solving an instance of $(3)$ for ${\\widetilde \\eta}_0$ and ${\\widetilde \\eta}_1$, then setting</p>\n",
    "\n",
    "\\begin{align}\n",
    "\\xi(x) =  \\left\\vert {\\widetilde \\eta}_0 + {\\widetilde \\eta}_1 z \\right\\vert^2.\n",
    "\\tag{4}\n",
    "\\end{align}\n",
    "\n",
    "<p style='text-align: justify;'>For the quantitative examples below,  either we twist the pair $\\left({\\widetilde \\alpha}_z, {\\widetilde \\kappa}\\right)$ and form $\\xi^{[\\kappa]}$, or we twist the pair $({\\widetilde \\alpha}_z, {\\widetilde \\beta})$ and form $\\xi^{[\\beta]}$.</p>\n",
    "\n",
    "\n",
    "<p style='text-align: justify;'>To set worrisome parameters $\\left({\\widetilde \\alpha}_z, {\\widetilde \\kappa}\\right)$ or $({\\widetilde \\alpha}_z, {\\widetilde \\beta})$, we target the entropy of the implied worst-case model $M^{H^*}$ relative to the baseline model $(1)$. As discussed in section 3, relative entropy $\\Delta^*\\left(M^H\\right)$ of martingale process $M^H$ equals one half the expectation of $|H_t|^2$ under the $H$ induced probability model. As a result, we can parameterize relative entropy of the worst-case model using the scalar ${\\sf q}$:</p>\n",
    " \\begin{align}\n",
    " \\Delta^*\\left(M^{H^*}\\right) = {\\frac {{\\sf q}^2}  2}\n",
    "\\end{align}\n",
    "\n",
    "<p style='text-align: justify;'>One can think of ${\\sf q}$ as a measure of the magnitude of a probability distortion. We calibrate worrisome models to induce specific $\\mathsf{q}$ values.</p>\n",
    "\n",
    "<p style='text-align: justify;'>To see how state-dependence of a quadratic twisting function influences this calibration, We decomopose relative entropy into state-independent and state-dependent parts $\\xi(Z_t)=\\xi_0 + \\widetilde{\\xi}(Z_t)$ and suppose that twisted relative entropy constraint is satisfied with equality to arrive at</p>\n",
    "\n",
    "\\begin{align}\n",
    "\\frac{\\mathsf{q}^2}{2} = \\Delta^*\\left(M^{H^*}\\right) = \\frac{\\xi_0}{2} + \\lim_{\\delta \\downarrow 0} \\frac{\\delta}{2}\\int \\exp(-\\delta \\tau)E\\left(M^{H^*}_{\\tau} \\widetilde{\\xi}(Z_{\\tau}) \\mid   \\mathcal F_0\\right)d\\tau \\doteq \\xi_0 + \\Omega(\\xi) .\n",
    "\\end{align}\n",
    "\n",
    "The last equality defines $\\Omega(\\xi)$ as the part of relative entropy that arises from state-dependence in $\\xi$. "
   ]
  },
  {
   "cell_type": "markdown",
   "metadata": {},
   "source": [
    "### Figure 3: Examples of twisting functions  $\\xi^{[\\kappa]}$ and $\\xi^{[\\beta]}$ \n",
    "\n",
    "<p style='text-align: justify;'>Figure 3 demonstrates twisting functions $\\xi^{[\\kappa]}$ and $\\xi^{[\\beta]}$ associated with worrisome $(\\widetilde{\\alpha}_z, \\widetilde{\\kappa})=(-.002, .005)$ and $(\\widetilde{\\alpha}_z, \\widetilde{\\beta})=(-.002, 1.215 )$, respectively. Dashed horizontal line shows the state-independent part of the twisting function, while the dotted horizontal line denotes relative entropy of the induce worst-case models with $\\mathsf{q}=.2$.</p>\n",
    "\n",
    "<p style='text-align: justify;'><b>Toggle the slider</b> to see how twisting function $\\xi^{[\\kappa]}$ and $\\xi^{[\\beta]}$ changes. For each $\\tilde{\\kappa}$, we derived a $\\xi^{[\\kappa]}$ and a corresponding $\\xi^{[\\beta]}$ fixing entropy $\\mathsf{q}=.2$ and $\\xi_0$ (constant in twisting function).</p>"
   ]
  },
  {
   "cell_type": "code",
   "execution_count": null,
   "metadata": {
    "ExecuteTime": {
     "end_time": "2020-01-28T16:42:45.849551Z",
     "start_time": "2020-01-28T16:42:45.275080Z"
    }
   },
   "outputs": [],
   "source": [
    "from figs_utils_new import *\n",
    "p = plottingmodule()\n",
    "p.twisting_plot()"
   ]
  },
  {
   "cell_type": "markdown",
   "metadata": {},
   "source": [
    " <p style='text-align: justify;'>In the single-capital economy, we saw that the two twisting functions induce noticeably different worst-case models: while $\\xi^{[\\kappa]}$ tends to impart adverse shifts in the mean of $Z$, $\\xi^{[\\beta]}$ focuses relatively more attention on an increased  variance of $Z$.</p>"
   ]
  },
  {
   "cell_type": "markdown",
   "metadata": {},
   "source": [
    "## Two capital stocks"
   ]
  },
  {
   "cell_type": "markdown",
   "metadata": {},
   "source": [
    "### Setup\n",
    "\n",
    "__For details and codes solving two capital stocks model please refer to our another notebook [two_capitals](two_capitals.ipynb)__\n",
    "\n",
    "<p style='text-align: justify;'>We now extend investment opportunities by adding a second productive capital that can be used to produce the common consumption good with constant productivity. Under the baseline model, investment $I^{(1)}$ and $I^{(2)}$ affect two capital stocks $K^{(1)}$ and $K^{(2)}$ according to</p>\n",
    "\\begin{align*}\n",
    "dK_t^{(1)} &= K_t^{(1)} \\left[\\left({\\frac {I_t^{(1)}}{K_t^{(1)}}}  - {\\frac {\\phi_1}  2}  \\left(\\frac{I_t^{(1)}}{K_t^{(1)}} \\right)^2 + (.01) \\left( {\\widehat \\alpha}_1 + {\\widehat \\beta}_1 Z_t   \\right)\\right) dt + (.01) \\sigma_1   \\cdot dW_t \\right] \\\\\n",
    "dK_t^{(2)} &=  K_t^{(2)} \\left[ \\left({\\frac{I_t^{(2)}}{K_t^{(2)}}}  -   {\\frac {\\phi_2}  2} \\left(\\frac{I_t^{(2)}}{K_t^{(2)}} \\right)^2 + (.01) \\left( {\\widehat \\alpha}_2 + {\\widehat \\beta}_2 Z_t \\right) \\right)  dt + (.01)  \\sigma_{2}  \\cdot dW_t \\right] \\\\\n",
    "dZ_t &= \\left({\\widehat \\alpha}_z   - {\\widehat \\kappa} Z_t \\right)dt + \\sigma_z \\cdot dW_t\n",
    "\\tag{5}\n",
    "\\end{align*}\n",
    "subject to the aggregate resource constraint\n",
    "\n",
    "\\begin{align*}\n",
    "C_t + I_t^{(1)} + I_t^{(2)} = \\mathcal{A}_1  K_t^{(1)} + \\mathcal{A}_2 K_t^{(2)}.\n",
    "\\end{align*}\n",
    "\n",
    "<p style='text-align: justify;'>The two sectors are  identical in their technology parameters $\\left(\\mathcal{A}_1, \\phi_1, \\widehat{\\alpha}_1\\right)=\\left(\\mathcal{A}_2, \\phi_2, \\widehat{\\alpha}_2\\right)$ and exposures to the Brownian shocks, $\\sigma_1=\\sigma_2$, but  can differ in  exposures to long-run risk, so that $\\widehat{\\beta}_1 \\neq \\widehat{\\beta}_2$. To study how multiple capital stocks and  heterogeneity in their exposures to  long-run risk  affect decision rules and the worst-case model, we consider two cases:</p>\n",
    "<ul>\n",
    "<li> <em><b>ex post heterogeneity:</b></em> two capital stocks possess identical evolution equations but are exposed to idiosyncratic shocks that give rise to a non degenerate distribution of capital ex post. This case features a trade-off between diversification and adjustment costs similar to studied by [Eberly & Wang (2011)](https://www0.gsb.columbia.edu/faculty/nwang/papers/EberlyWang2011_04v3.pdf). We study how concerns about model misspecification affect this trade-off.</li>\n",
    "\n",
    "<li> <em><b>ex ante heterogeneity:</b></em> two capital stocks differ in their evolution equations, the first capital stock is immune to long-run risk because $\\widehat{\\beta}_1=0$, while the second capital stock is exposed to it because  $\\widehat{\\beta_2}>0$. and alter the technology parameters so that the induced average consumption dynamics is identical to the single-capital economy.</li>\n",
    "</ul>\n",
    "<p style='text-align: justify;'>Like the case with a single capital stock, it is convenient to use the investment ratios $D_t^{(1)} \\doteq {\\frac {I_t^{(1)}}{K_t^{(1)}}}$ and $ D_t^{(2)} \\doteq {\\frac {I_t^{(2)}}{K_t^{(2)}}}$ as controls, and the logarithm of aggregate capital, $\\log K_t \\doteq \\log\\left(K^{(1)}+K^{(2)}\\right)$, and the long-run risk component, $Z$, as state variables. However, with  costly reallocation between the two capital stocks, the distribution of capital becomes an additional endogenous state variable that we express with the ratio.</p>\n",
    "\n",
    "\\begin{align*}\n",
    "R_t \\doteq \\frac{K^{(2)}_t}{K^{(1)}_t+ K^{(2)}_t} = \\frac{K^{(2)}_t}{K_t} \\in [0, 1].\n",
    "\\end{align*}\n",
    "\n",
    "<p style='text-align: justify;'>Adjustment costs prevent the household from setting  $R_t$ ideally at every instant; instead the household  influences its motion at each instant  by setting the investment ratios $D_t^{(1)}$ and $D_t^{(2)}$.</p>\n",
    "\n",
    "The state vector is then $X_t \\doteq \\left[\\log K_t, \\ R_t, \\ Z_t\\right]'$. "
   ]
  },
  {
   "cell_type": "markdown",
   "metadata": {},
   "source": [
    "### Symmetric returns to two capital stocks"
   ]
  },
  {
   "cell_type": "markdown",
   "metadata": {},
   "source": [
    "<p style='text-align: justify;'>Consider the case with  __ex post__ heterogeneity only, that is, set ${\\widehat \\beta}_1 = {\\widehat \\beta}_2 = .5$ and $({\\mathcal A}_1, \\phi_1, \\widehat\\alpha_1) = ({\\mathcal A}_2, \\phi_2, \\widehat\\alpha_2)=({\\mathcal A}, \\phi, \\widehat\\alpha_k)$ using values from calibration results in section 1.2 . Because diversification can reduce aggregate consumption volatility, we increase the exposures $\\sigma_1=\\sigma_2$ relative to the single-capital economy by setting $\\mathsf{s}=1.32$, so that average volatility of equilibrium consumption growth  equal  that estimated from U.S. data.</p>\n"
   ]
  },
  {
   "cell_type": "markdown",
   "metadata": {},
   "source": [
    "#### Figure 4: Features of robust controls and the worst-case model with __ex post__ heterogeneity. \n",
    "\n",
    "*Left panel*: Optimal investment ratio as a function of the allocation of capital.\n",
    "\n",
    "*Right panel*: stationary distributions (marginals and $90%$ <em>confidence sets</em>) for the states $(R, Z)$ under three scenarios: \n",
    "\n",
    "<ul>\n",
    "<li> <b>Black solid</b>: with non-robust controls using the baseline state evolution, </li>\n",
    "<li> <font color='red'>Red dashed:</font> with robust controls using the baseline state evolution, </li>\n",
    "<li> <font color='blue'>Blue dotted:</font> with robust controls using the worst-case state evolution. </li>\n",
    "<li> <font color='green'>Green dash-dotted:</font>denotes the worst-case mean of $Z$ in the single capital economy. </li>\n",
    "</ul>\n",
    "\n",
    "__Toggle the slider or hit the play button__ to see how $d^*_1$ and stationary distribution alter as $\\tilde{\\kappa}$ change"
   ]
  },
  {
   "cell_type": "code",
   "execution_count": null,
   "metadata": {
    "ExecuteTime": {
     "end_time": "2020-01-28T16:42:49.724258Z",
     "start_time": "2020-01-28T16:42:45.851547Z"
    }
   },
   "outputs": [],
   "source": [
    "p.ex_post_animation()"
   ]
  },
  {
   "cell_type": "markdown",
   "metadata": {},
   "source": [
    "### Asymmetric returns to two capital stocks\n",
    "\n",
    "<p style='text-align: justify;'>We now turn to <b>ex ante</b> heterogeneity by studying an economy in which the two capital stocks are exposed to long run uncertainty asymmetrically.\n",
    " In particular, we set $\\widehat{\\beta}_1=0$ and $\\widehat{\\beta}_2=.5$ and choose $\\mathsf{s}=1.14$ so that unconditional means of the drift and volatility terms of equilibrium consumption growth are equal to those estimated from U.S. data.</p>\n"
   ]
  },
  {
   "cell_type": "markdown",
   "metadata": {},
   "source": [
    "#### Figure 6: Features of robust controls and the worst-case model with __ex ante__ heterogeneity. \n",
    "\n",
    "*Left panel*: Optimal investment ratio as a function of the allocation of capital.\n",
    "\n",
    "*Right panel*: stationary distributions (marginals and $90%$ <em>confidence sets</em>) for the states $(R, Z)$ under three scenarios: \n",
    "<ul>\n",
    "<li> <b>Solid</b>: with non-robust controls using the baseline state evolution, </li>\n",
    "<li> <font color='red'>Dashed:</font> with robust controls using the baseline state evolution, </li>\n",
    "<li> <font color='blue'>Dotted:</font> with robust controls using the worst-case state evolution. </li>\n",
    "<li> <font color='green'>Dash-dotted:</font>denotes the worst-case mean of $Z$ in the single capital economy. </li>\n",
    "</ul>\n",
    "<p style='text-align: justify;'>Shaded areas on the left panel show inter-decile ranges for the stationary distributions of $Z$ under the baseline model with the thin dash-dotted line denoting the $.9$ decile.</p>\n",
    "\n",
    "__Toggle the slider or hit the play button__ to see how $d^*_1$ and stationary distribution alter as $\\tilde{\\beta}$ change"
   ]
  },
  {
   "cell_type": "code",
   "execution_count": null,
   "metadata": {
    "ExecuteTime": {
     "end_time": "2020-01-28T16:42:52.837031Z",
     "start_time": "2020-01-28T16:42:49.727252Z"
    }
   },
   "outputs": [],
   "source": [
    "p.ex_ante_animation()"
   ]
  },
  {
   "cell_type": "markdown",
   "metadata": {},
   "source": [
    "### Generalized impulse response functions (IRFS)\n",
    "<p style='text-align: justify;'>To study the speed of convergence of the capital distribution, Figure 5 plots the  generalized impulse response functions (IRFs) proposed by <a href = \"https://www.jstor.org/stable/2951766?seq=1#metadata_info_tab_contents\">Gallant et al.(1993) </a> and <a href = \"https://www.sciencedirect.com/science/article/abs/pii/0304407695017534\">Koop et al.(1996) </a>. The impulse response of $R$ for the linear combination of shocks chosen by the vector $\\mathsf{w}$ is defined as</p>\n",
    "\n",
    "\\begin{align*}\n",
    "  \\Phi_{R}(t, x, \\mathsf{w}) \\doteq E\\left[R_t \\ | \\ dW_0=\\mathsf{w}, X_0=x\\right] - E\\left[R_t \\ | \\ dW_0=0, X_0=x\\right].\n",
    "  \\tag{6}\n",
    "\\end{align*}\n",
    "\n",
    "<p style='text-align: justify;'>Because our model is nonlinear, the generalized impulse responses depend on the initial state $x$ and shock vector $\\mathsf{w}$. We focus on  effects of a positive one standard deviation shock to the second capital stock and evaluate $\\Phi_R$ at the median of the stationary distribution of $R$. As illustrated by the left panel of Figure 5, idiosyncratic capital shocks have small but very persistent effects on the capital distribution. Since the robust investment rates are more sensitive to $R$ than those without robustness (see left panel of Figure 4), the persistence of $R$ is slightly reduced when the household is concerned about model misspecification. The dependence of $\\Phi_R$ on the initial capital distribution is very small. This follows from the fact that with homogeneous exposure to long run risk, the dynamics of $R$ and $Z$ are independent of each other. Among other things, this implies that </p>\n",
    "<ul>\n",
    "<li> (1) shock to the long run risk state does not affect $\\Phi_R$, and </li>\n",
    "<li> (2) the IRFs on the left panel of Figure 5 do not depend on $Z_0$.</li>\n",
    "</ul>    \n"
   ]
  },
  {
   "cell_type": "markdown",
   "metadata": {},
   "source": [
    "#### Figure 5: Impulse response functions (IRFs) of $R$ to the second idiosyncratic shock with symmetric and asymmetric returns \n",
    "\n",
    "*__Left panel:__* symmetric returns\n",
    "\n",
    "*__Right panel:__* asymmetric returns\n",
    "\n",
    "<ul>\n",
    "<li> <b>Solid</b>: with non-robust controls using the baseline state evolution, </li>\n",
    "<li> <font color='red'>Dashed:</font> with robust controls using the baseline state evolution, </li>\n",
    "<li> <font color='blue'>Dotted:</font> with robust controls using the worst-case state evolution. </li>\n",
    "</ul>\n",
    "\n",
    "<p style='text-align: justify;'>The size of the shock is $\\mathsf{w}=[0, 1, 0]'$. The initial $R_0$ is set at the median of the stationary distributions of $R$ under the baseline model. In all cases, $Z_0= \\bar{z}$. </p>\n",
    "\n",
    "<p style='text-align: justify;'><b>Toggle the slider</b> to see how  Impulse response functions (IRFs) of $R$ to the second idiosyncratic shock change as $\\tilde{\\kappa}$ (symmetric returns) and $\\tilde{\\beta}$ (asymmetric returns) change</p>"
   ]
  },
  {
   "cell_type": "code",
   "execution_count": null,
   "metadata": {
    "ExecuteTime": {
     "end_time": "2020-01-28T16:42:55.827043Z",
     "start_time": "2020-01-28T16:42:52.839027Z"
    }
   },
   "outputs": [],
   "source": [
    "f5_l = p.sym_r_irf_plot()\n",
    "f5_r = p.asym_r_irf_plot()\n",
    "display(widgets.HBox([f5_l,f5_r]))"
   ]
  },
  {
   "cell_type": "markdown",
   "metadata": {},
   "source": [
    "#### Figure 7: Drift of Long run risk state and IRFs of Z\n",
    "\n",
    "<p style='text-align: justify;'>The worst-case model makes  the drift of $R$ become $Z$ dependent.  In addition, under the household's __ex post__ Bayesian belief, the long-run risk state is no longer exogenous. Instead, as depicted by the left panel of Figure 7, the robust household expects  larger falls in $Z$ when  holdings more of the  $Z$-exposed asset. The right panel of Figure 7 (accompanied with the right panel of Figure 5) illustrates how such beliefs affect the perceived impulse response of  the long-run risk state to an idiosyncratic capital shock: </p>\n",
    "<ul>\n",
    "<li>  for short horizons, the positive response appears *less* persistent than it is under the baseline model;  and </li>\n",
    "<li> for longer horizons, the effect becomes negative temporarily.</li>\n",
    "</ul>\n",
    "\n",
    "<p style='text-align: justify;'><b>Toggle the slider</b> to see how long run risk drifts and Impulse response functions (IRFs) to the second idiosyncratic shock change as $\\tilde{\\beta}$ changes.</p>"
   ]
  },
  {
   "cell_type": "code",
   "execution_count": null,
   "metadata": {
    "ExecuteTime": {
     "end_time": "2020-01-28T16:42:59.769896Z",
     "start_time": "2020-01-28T16:42:55.830035Z"
    }
   },
   "outputs": [],
   "source": [
    "p.Z_plot()"
   ]
  },
  {
   "cell_type": "markdown",
   "metadata": {},
   "source": [
    "## Price of model uncertainty\n",
    "\n"
   ]
  },
  {
   "cell_type": "markdown",
   "metadata": {},
   "source": [
    "### An affine stochastic discount factor\n",
    "<p style='text-align: justify;'>Consider first the economy with a single capital stock. We construct market prices of risk and uncertainty from  shadow prices for the planning problem from section 2.2. By evaluating the household's  marginal rate of substitution at the proposed equilibrium consumption process, we deduce a stochastic discount factor process $\\Lambda$ that obeys</p>\n",
    "\n",
    "\\begin{equation}\n",
    "d \\Lambda_t = - \\underbrace{(.01)\\left[100\\delta + {\\widehat \\alpha_c} +{\\widehat \\beta} Z_t + \\sigma'_c H_t^* - \\frac{(.01)|\\sigma_c|^2}{2} \\right]}_{\\text{risk free rate}}dt - \\left[\\underbrace{(.01)\\sigma_c}_{\\text{risk price}} + \\underbrace{- H_t^*}_{\\substack{\\text{uncertainty} \\\\ \\text{price}}}\\right]' d W_t .\n",
    "\\tag{7}\n",
    "\\end{equation}\n",
    "\n",
    "<p style='text-align: justify;'>The log stochastic discount factor has a linear-quadratic local mean and local variance. The instantaneous interest rate is affine in the state variable as are  uncertainty prices. Functional forms of this type have been used extensively in empirical asset pricing applications. A prominent example is <a ref=\"https://web.stanford.edu/~piazzesi/AP.pdf\"> Ang and Piazzesi (2003)</a> who estimated a term structure model with an exponential quadratic stochastic discount factor process driven by macroeconomic state variables. More recently, <a ref='https://pdfs.semanticscholar.org/c31c/79642e61c86d8eb28e53e1c2175869774602.pdf'> Piazzesi et al. (2015)</a> assumed an affine form for the likelihood ratio between a well-fitting statistical model of zero-coupon interest rates and a potentially different model assumed to be used by financial experts' to make forecasts about those interest rates. Using survey data on expert's forecasts, they found large and systematic differences between the two models.</p>\n",
    "\n",
    "<p style='text-align: justify;'>Minus the local exposures to the Brownian shocks are usually interpreted as local <em><b>risk prices</b></em>, but we   reinterpret them as follows. We  think of $(.01)\\sigma_c$ as risk prices induced by the curvature of log utility and $-H^*_t$ as <em><b>uncertainty prices</b></em> induced by a representative investor's doubts about different aspects of the baseline model. For the single-capital economy, the uncertainty price takes the form</p>\n",
    "\n",
    "\\begin{align}\n",
    "U_t \\doteq -H_t^* = -\\eta_0^* - \\eta_1^* Z_t .\n",
    "\\tag{8}\n",
    "\\end{align}\n",
    "\n",
    "<p style='text-align: justify;'>In the constant $\\xi$ case, $\\eta_1^* =0$, hence $U_t$ is constant; but when $\\xi$ is state dependent, $\\eta_1^*$ differs from zero, so  the uncertainty prices are time varying and depend linearly on the growth state $Z_t$. When $U$ depends positively on $Z$, uncertainty prices are higher in bad than in good times. It is noteworthy that countercyclical uncertainty prices emerge endogenously from a  baseline model that excludes stochastic volatility in the underlying consumption risk as an exogenous input under the baseline model.</p>"
   ]
  },
  {
   "cell_type": "markdown",
   "metadata": {},
   "source": [
    "#### Figure 8: Local uncertainty prices of capital shock and long-run risk shock\n",
    "<p style='text-align: justify;'>Figure 8 direct capital shock (dashed) and the long-run risk shock (solid) for the economy with a single capital stock. \n",
    "The state-dependent twisting functions $\\xi^{[\\kappa]}$ and $\\xi^{[\\beta]}$ are induced by worrisome models $(\\widetilde{\\alpha}_z, \\widetilde\\kappa)=(-.002, .005)$ and $(\\widetilde{\\alpha}_z, \\widetilde{\\beta})=(-.002, 1.215 )$, respectively. The constant twisting function is associated with $\\widetilde{\\alpha}_z=-.005$. In all cases, $\\mathsf{q}=.2$. We evaluate $\\ell^{*}(z_0, \\theta)$ using $\\bar z$ as the initial state for the calculations. NBER recessions are shaded.</p>"
   ]
  },
  {
   "cell_type": "code",
   "execution_count": null,
   "metadata": {
    "ExecuteTime": {
     "end_time": "2020-01-28T16:43:00.496688Z",
     "start_time": "2020-01-28T16:42:59.771891Z"
    }
   },
   "outputs": [],
   "source": [
    "Figure8()"
   ]
  },
  {
   "cell_type": "markdown",
   "metadata": {},
   "source": [
    "<p style='text-align: justify;'>Figure 8 depicts estimates of the local uncertainty prices associated with the two shocks using the three specifications of $\\xi$. These estimates were obtained by first using the Kalman\n",
    "filter to estimate  $\\widehat Z_t = E [ Z_t | \\Delta \\log C_t, \\ldots, \\Delta\\log C_1]$ under the baseline model of section 1. For each twisting function, we then constructed a bivariate time series model $(10)$ for the two Brownian shocks using the implied worst-case distortion. </p>\n",
    "\n",
    "<p style='text-align: justify;'>These series are depicted in Figure 8. Evidently, the estimated uncertainty prices from the state-dependent twisting functions all fluctuate over time in a <em><b>countercyclical</b></em> manner. These fluctuations arise because both shocks hit the long-run risk state and so affect the <em><b>size of the entropy ball</b></em> through $\\xi(z)$. This makes uncertainty prices increase during times of diminished expected consumption growth. Fluctuations are proportional since they are constructed as an affine function of the single state variable $Z$.</p>\n"
   ]
  },
  {
   "cell_type": "markdown",
   "metadata": {},
   "source": [
    "### Economies with two capital stocks\n",
    "<p style='text-align: justify;'>Although uncertainty prices do not have an affine representation in our settings with two capital stocks,  they still equal  $-H^*(R, Z)$, where $H^*$ is a vector of worst-case distortions to the Brownian shocks. In these settings, $U_t$ also depends on the distribution of capital $R$. To make settings with three shocks comparable with the single capital economy, we construct exposure to an equally weighted sum of the first two shocks scaled to have a unit variance. We compare the uncertainty price of the shock to capital to that for  the long-run shock to the  growth rate  in the section 3.3 (symmetric returns) and the section 3.4 (asymmetric returns) economies.</p>\n"
   ]
  },
  {
   "cell_type": "markdown",
   "metadata": {},
   "source": [
    "<p style='text-align: justify;'>We use parameter values that ensure that in all cases $\\mathsf{q}=.2$ and that the unconditional means of the drift and volatility of equilibrium consumption growth  equal  those estimated from U.S. data. With symmetric returns to capital, $\\xi^{[\\kappa]}$ and $\\xi^{[\\beta]}$ are constructed from $(\\widetilde{\\alpha}_z, \\widetilde{\\kappa})=(-.0015, .005)$ and $(\\widetilde{\\alpha}_z, \\widetilde{\\beta}_1, \\widetilde{\\beta}_2)=(-.0015, 1.194, 1.184)$, respectively. With asymmetric returns to capital, $\\xi^{[\\kappa]}$ and $\\xi^{[\\beta]}$ are constructed from $(\\widetilde{\\alpha}_z, \\widetilde{\\kappa})=(-.0023, .005)$ and $(\\widetilde{\\alpha}_z, \\widetilde{\\beta}_1, \\widetilde{\\beta}_2)=(-.0023, 1.194, 1.194)$, respectively.</p>"
   ]
  },
  {
   "cell_type": "markdown",
   "metadata": {},
   "source": [
    "#### Figure 9: Stationary densities of local uncertainty prices\n",
    "<p style='text-align: justify;'>Figure 9 demonstrates stationary distributions of local uncertainty prices induced by the two state-dependent twisting functions in economies with symmetric (solid) and asymmetric (dotted) returns to capital.\n",
    "Prices are plotted under the stationary distribution of the baseline model with robust controls. The left panel shows the uncertainty price of an equally weighted sum of the first two idiosyncratic capital shocks scaled to have a unit variance.</p>"
   ]
  },
  {
   "cell_type": "code",
   "execution_count": null,
   "metadata": {
    "ExecuteTime": {
     "end_time": "2020-01-28T16:43:00.906561Z",
     "start_time": "2020-01-28T16:43:00.497634Z"
    }
   },
   "outputs": [],
   "source": [
    "p.shockplot()"
   ]
  },
  {
   "cell_type": "code",
   "execution_count": null,
   "metadata": {},
   "outputs": [],
   "source": []
  }
 ],
 "metadata": {
  "kernelspec": {
   "display_name": "Python 3",
   "language": "python",
   "name": "python3"
  },
  "language_info": {
   "codemirror_mode": {
    "name": "ipython",
    "version": 3
   },
   "file_extension": ".py",
   "mimetype": "text/x-python",
   "name": "python",
   "nbconvert_exporter": "python",
   "pygments_lexer": "ipython3",
   "version": "3.7.3"
  },
  "toc": {
   "base_numbering": 1,
   "nav_menu": {},
   "number_sections": true,
   "sideBar": true,
   "skip_h1_title": true,
   "title_cell": "Table of Contents",
   "title_sidebar": "Contents",
   "toc_cell": true,
   "toc_position": {
    "height": "789px",
    "left": "66px",
    "top": "208px",
    "width": "260.313px"
   },
   "toc_section_display": true,
   "toc_window_display": true
  },
  "varInspector": {
   "cols": {
    "lenName": 16,
    "lenType": 16,
    "lenVar": 40
   },
   "kernels_config": {
    "python": {
     "delete_cmd_postfix": "",
     "delete_cmd_prefix": "del ",
     "library": "var_list.py",
     "varRefreshCmd": "print(var_dic_list())"
    },
    "r": {
     "delete_cmd_postfix": ") ",
     "delete_cmd_prefix": "rm(",
     "library": "var_list.r",
     "varRefreshCmd": "cat(var_dic_list()) "
    }
   },
   "types_to_exclude": [
    "module",
    "function",
    "builtin_function_or_method",
    "instance",
    "_Feature"
   ],
   "window_display": false
  }
 },
 "nbformat": 4,
 "nbformat_minor": 4
}
