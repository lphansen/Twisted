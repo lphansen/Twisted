{
 "cells": [
  {
   "cell_type": "markdown",
   "metadata": {},
   "source": [
    "# Twisted Probabilities, Uncerntainty, and Prices\n",
    "by [Lars Peter Hansen](https://larspeterhansen.org/), [Bálint Szőke](https://www.balintszoke.com/), Lloyd S. Han and [Thomas J.Sargent](http://www.tomsargent.com/), you could find the latest draft [here](https://larspeterhansen.org/research/papers/). The notebook presents the code, table and figures accompanying section 6 in the paper\n",
    "\n",
    "We illustrate effects of concerns about robustness in three environments using a model of capital accumulation with adjustment costs proposed by [Eberly & Wang (2011)](https://www0.gsb.columbia.edu/faculty/nwang/papers/EberlyWang2011_04v3.pdf). We modify their model to expose investment returns  to long-run risks and make investors concerned  about misspecifications of them. Three distinct example economies environments feature:\n",
    "* a single capital stock\n",
    "* two capital stocks with a common exposure to long-run risk\n",
    "*  two capital stocks with only one being exposed to long-run risk"
   ]
  },
  {
   "cell_type": "markdown",
   "metadata": {
    "toc": true
   },
   "source": [
    "<h1>Table of Contents<span class=\"tocSkip\"></span></h1>\n",
    "<div class=\"toc\"><ul class=\"toc-item\"><li><span><a href=\"#Baseline-model\" data-toc-modified-id=\"Baseline-model-1\"><span class=\"toc-item-num\">1&nbsp;&nbsp;</span>Baseline model</a></span><ul class=\"toc-item\"><li><span><a href=\"#Setup\" data-toc-modified-id=\"Setup-1.1\"><span class=\"toc-item-num\">1.1&nbsp;&nbsp;</span>Setup</a></span></li><li><span><a href=\"#Calibration\" data-toc-modified-id=\"Calibration-1.2\"><span class=\"toc-item-num\">1.2&nbsp;&nbsp;</span>Calibration</a></span></li></ul></li><li><span><a href=\"#Single-capital-stock-case\" data-toc-modified-id=\"Single-capital-stock-case-2\"><span class=\"toc-item-num\">2&nbsp;&nbsp;</span>Single capital stock case</a></span><ul class=\"toc-item\"><li><span><a href=\"#Parameter-alternatives\" data-toc-modified-id=\"Parameter-alternatives-2.1\"><span class=\"toc-item-num\">2.1&nbsp;&nbsp;</span>Parameter alternatives</a></span></li><li><span><a href=\"#Planner's-Problem\" data-toc-modified-id=\"Planner's-Problem-2.2\"><span class=\"toc-item-num\">2.2&nbsp;&nbsp;</span>Planner's Problem</a></span></li><li><span><a href=\"#Figure-3:-Examples-of-twisting-functions--$\\xi^{[\\kappa]}$-and-$\\xi^{[\\beta]}$\" data-toc-modified-id=\"Figure-3:-Examples-of-twisting-functions--$\\xi^{[\\kappa]}$-and-$\\xi^{[\\beta]}$-2.3\"><span class=\"toc-item-num\">2.3&nbsp;&nbsp;</span>Figure 3: Examples of twisting functions  $\\xi^{[\\kappa]}$ and $\\xi^{[\\beta]}$</a></span></li></ul></li><li><span><a href=\"#Two-capital-stocks\" data-toc-modified-id=\"Two-capital-stocks-3\"><span class=\"toc-item-num\">3&nbsp;&nbsp;</span>Two capital stocks</a></span><ul class=\"toc-item\"><li><span><a href=\"#Setup\" data-toc-modified-id=\"Setup-3.1\"><span class=\"toc-item-num\">3.1&nbsp;&nbsp;</span>Setup</a></span></li><li><span><a href=\"#Planner's-problem\" data-toc-modified-id=\"Planner's-problem-3.2\"><span class=\"toc-item-num\">3.2&nbsp;&nbsp;</span>Planner's problem</a></span></li><li><span><a href=\"#Symmetric-returns-to-two-capital-stocks\" data-toc-modified-id=\"Symmetric-returns-to-two-capital-stocks-3.3\"><span class=\"toc-item-num\">3.3&nbsp;&nbsp;</span>Symmetric returns to two capital stocks</a></span><ul class=\"toc-item\"><li><span><a href=\"#Figure-4:-Features-of-robust-controls-and-the-worst-case-model-with-ex-post-heterogeneity.\" data-toc-modified-id=\"Figure-4:-Features-of-robust-controls-and-the-worst-case-model-with-ex-post-heterogeneity.-3.3.1\"><span class=\"toc-item-num\">3.3.1&nbsp;&nbsp;</span>Figure 4: Features of robust controls and the worst-case model with <strong>ex post</strong> heterogeneity.</a></span></li></ul></li><li><span><a href=\"#Asymmetric-returns-to-two-capital-stocks\" data-toc-modified-id=\"Asymmetric-returns-to-two-capital-stocks-3.4\"><span class=\"toc-item-num\">3.4&nbsp;&nbsp;</span>Asymmetric returns to two capital stocks</a></span><ul class=\"toc-item\"><li><span><a href=\"#Figure-6:-Features-of-robust-controls-and-the-worst-case-model-with-ex-ante-heterogeneity.\" data-toc-modified-id=\"Figure-6:-Features-of-robust-controls-and-the-worst-case-model-with-ex-ante-heterogeneity.-3.4.1\"><span class=\"toc-item-num\">3.4.1&nbsp;&nbsp;</span>Figure 6: Features of robust controls and the worst-case model with <strong>ex ante</strong> heterogeneity.</a></span></li></ul></li><li><span><a href=\"#Generalized-impulse-response-functions-(IRFS)\" data-toc-modified-id=\"Generalized-impulse-response-functions-(IRFS)-3.5\"><span class=\"toc-item-num\">3.5&nbsp;&nbsp;</span>Generalized impulse response functions (IRFS)</a></span><ul class=\"toc-item\"><li><span><a href=\"#Figure-5:-Impulse-response-functions-(IRFs)-of-$R$-to-the-second-idiosyncratic-shock-with-symmetric-and-asymmetric-returns\" data-toc-modified-id=\"Figure-5:-Impulse-response-functions-(IRFs)-of-$R$-to-the-second-idiosyncratic-shock-with-symmetric-and-asymmetric-returns-3.5.1\"><span class=\"toc-item-num\">3.5.1&nbsp;&nbsp;</span>Figure 5: Impulse response functions (IRFs) of $R$ to the second idiosyncratic shock with symmetric and asymmetric returns</a></span></li><li><span><a href=\"#Figure-7:-Drift-of-Long-run-risk-state-and-IRFs-of-Z\" data-toc-modified-id=\"Figure-7:-Drift-of-Long-run-risk-state-and-IRFs-of-Z-3.5.2\"><span class=\"toc-item-num\">3.5.2&nbsp;&nbsp;</span>Figure 7: Drift of Long run risk state and IRFs of Z</a></span></li></ul></li></ul></li><li><span><a href=\"#Price-of-model-uncertainty\" data-toc-modified-id=\"Price-of-model-uncertainty-4\"><span class=\"toc-item-num\">4&nbsp;&nbsp;</span>Price of model uncertainty</a></span><ul class=\"toc-item\"><li><span><a href=\"#An-affine-stochastic-discount-factor\" data-toc-modified-id=\"An-affine-stochastic-discount-factor-4.1\"><span class=\"toc-item-num\">4.1&nbsp;&nbsp;</span>An affine stochastic discount factor</a></span><ul class=\"toc-item\"><li><span><a href=\"#Figure-8:-Local-uncertainty-prices-of-capital-shock-and-long-run-risk-shock\" data-toc-modified-id=\"Figure-8:-Local-uncertainty-prices-of-capital-shock-and-long-run-risk-shock-4.1.1\"><span class=\"toc-item-num\">4.1.1&nbsp;&nbsp;</span>Figure 8: Local uncertainty prices of capital shock and long-run risk shock</a></span></li></ul></li><li><span><a href=\"#Economies-with-two-capital-stocks\" data-toc-modified-id=\"Economies-with-two-capital-stocks-4.2\"><span class=\"toc-item-num\">4.2&nbsp;&nbsp;</span>Economies with two capital stocks</a></span><ul class=\"toc-item\"><li><span><a href=\"#Figure-9:-Stationary-distributions-of-local-uncertainty-prices\" data-toc-modified-id=\"Figure-9:-Stationary-distributions-of-local-uncertainty-prices-4.2.1\"><span class=\"toc-item-num\">4.2.1&nbsp;&nbsp;</span>Figure 9: Stationary distributions of local uncertainty prices</a></span></li></ul></li></ul></li></ul></div>"
   ]
  },
  {
   "cell_type": "code",
   "execution_count": null,
   "metadata": {
    "ExecuteTime": {
     "end_time": "2020-01-07T08:06:55.900455Z",
     "start_time": "2020-01-07T08:06:37.131546Z"
    }
   },
   "outputs": [],
   "source": [
    "# Import Necessary packages\n",
    "# Set up Julia environment\n",
    "import julia\n",
    "julia.install()\n",
    "from julia.api import Julia\n",
    "jl = Julia(compiled_modules=False)\n",
    "j = julia.Julia()\n",
    "\n",
    "from figs_utils_new import *\n",
    "%matplotlib notebook"
   ]
  },
  {
   "cell_type": "markdown",
   "metadata": {},
   "source": [
    "## Baseline model"
   ]
  },
  {
   "cell_type": "markdown",
   "metadata": {},
   "source": [
    "### Setup\n",
    "\n",
    "Aggregate output is proportional to a single capital stock with a constant productivity parameter $\\mathcal{A}$. A representative household cares about consumption $C$ with instantaneous utility $\\delta\\log C$. Under the baseline model, investment $I$ affects capital $K$ according to\n",
    "\n",
    "\\begin{align}\n",
    "dK_t &= \\left[\\frac{I_t}{K_t} - \\frac{\\phi}{2}\\left(\\frac{I_t}{K_t}\\right)^2 + (.01)\\left(\\widehat \\alpha_k + \\widehat \\beta Z_t \\right)\\right]K_t dt + (.01)\\sigma_k K_t\\cdot dW_t \\label{eqn:model}\\\\\n",
    "dZ_t &= \\left(\\widehat\\alpha_z -\\widehat \\kappa Z_t \\right)dt + \\sigma_z \\cdot dW_t \\nonumber\n",
    "\\tag{1}\n",
    "\\end{align}\n",
    "\n",
    "with adjustment cost parameter $\\phi$. With zero investment, the rate of change of capital is $(.01)\\left(\\widehat\\alpha_k + \\widehat\\beta Z_t\\right)$, where $Z$ is an exogenously specified continuous-time scalar autoregressive process  that puts long-term risks into  returns on capital. Under baseline model $(1)$, the mean of $Z$ is  ${\\overline z} = {\\frac {{\\widehat \\alpha}_z} {{\\widehat \\kappa}}}$.\n",
    "\n",
    "he aggregate resource constraint is $C + I = {\\cal A} K$. It is convenient to pose a robust planner's problem in terms of an investment-capital ratio $D_t \\doteq\\frac{I_t}{K_t}$ and $\\log K_t$ that satisfy\n",
    "\\begin{align*}\n",
    "d \\log K_t = \\left[D_t - \\frac{\\phi}{2}\\left(D_t\\right)^2 + (.01)\\left(\\widehat \\alpha_k + \\widehat \\beta Z_t \\right) - {\\frac {(.01)^2 |\\sigma_k|^2}{2}} \\right] dt + (.01)\\sigma_k \\cdot dW_t.\n",
    "\\end{align*}\n",
    "Denote state variable as $X_t = [\\log K_t,\\ Z_t]'$ and instantaneous utility function\n",
    "\\begin{align*}\n",
    "\\upsilon(X_t, D_t) = \\delta\\log\\left({\\mathcal A}- D_t\\right) + \\delta\\log K_t.\n",
    "\\end{align*}\n",
    "\n"
   ]
  },
  {
   "cell_type": "markdown",
   "metadata": {},
   "source": [
    "### Calibration"
   ]
  },
  {
   "cell_type": "markdown",
   "metadata": {},
   "source": [
    "The basis of our quantitative analysis is an empirical model of  aggregate consumption dynamics. Our code for VAR estimation could be found in __VAR Estimation__ section of Git hub repository [Tenuous Belief](https://github.com/lphansen/TenuousBeliefs).\n",
    "\n",
    "We follow [Hansen et al. (2008)](http://larspeterhansen.org/wp-content/uploads/2016/10/Consumption-Strikes-Back-Measuring-Long-Run-Risk.pdf) by fitting a trivariate VAR for macroeconomic time series that contain information about long-term consumption growth, namely,\n",
    "log consumption growth, the difference between logs of business income and consumption, and the difference between logs of personal dividend income and\n",
    "consumption.\n",
    "\n",
    "The time series are quarterly data from 1948 Q1 to 2018 Q2. Our consumption measure is per capita consumption of non-durables and services from NIPA Table 1.1.5. Business income is measured as proprietor's income plus corporate profits per capita and the series are from NIPA Table 1.12. Personal dividend income is from NIPA Table 2.1. By including proprietors' income in addition to corporate profits, we use a broader measure of business income than [Hansen et al. (2008)](http://larspeterhansen.org/wp-content/uploads/2016/10/Consumption-Strikes-Back-Measuring-Long-Run-Risk.pdf), who used only corporate profits. Moreover, [Hansen et al. (2008)](http://larspeterhansen.org/wp-content/uploads/2016/10/Consumption-Strikes-Back-Measuring-Long-Run-Risk.pdf) did not include  personal dividends in their VAR analysis.\n",
    "We restrict  all three time series to have a common martingale component by imposing a known cointegration relation among them.\n",
    "\n",
    "We convert the discrete time VAR estimates to baseline parameters $({\\widehat \\alpha}_k,  {\\widehat \\beta}, {\\widehat \\alpha}_z, {\\widehat \\kappa} )$ and $(\\sigma_c, \\sigma_z)$ by setting ${\\widehat \\alpha}_z=0$ and $\\widehat{\\beta}=1$ and matching the dynamics of the VAR implied long-term consumption growth forecast with those of $Z$.\n",
    "As a result, we obtain the following parameters for the baseline model of consumption $(1)$:\n",
    "\n",
    "\\begin{align} \n",
    "& \\begin{matrix}\n",
    "{\\widehat \\alpha}_c  & = & .484 & & {\\widehat \\beta} &= &1 \\cr\n",
    "{\\widehat \\alpha}_z  &= & 0 &  & {\\widehat \\kappa} & = & .014 \\end{matrix} \\cr\n",
    "& \\sigma = \\begin{bmatrix}\n",
    "(\\sigma_c)' \\cr (\\sigma_z)' \\end{bmatrix}  =  \\begin{bmatrix} .477 & 0 \\cr  .011 & .025 \\end{bmatrix} .\n",
    "\\label{estimations}\n",
    "\\end{align}\n",
    "\n",
    "We set the household's subjective discount rate equal to $\\delta=.002.$\n",
    "\n",
    "In more detail, we choose $\\widehat{\\alpha}_c$ and $(1-\\widehat{\\kappa})$ to match the VAR implied unconditional mean of consumption growth and autoregressive coefficient of expected long-term consumption growth, respectively. In addition, we set $(\\sigma_c, \\sigma_z)$ such that $(1, \\widehat{\\kappa}^{-1})\\sigma\\sigma'(1, \\widehat{\\kappa}^{-1})'$ is equal to the VAR implied covariance matrix of the one-step-ahead forecast error for consumption growth and expected long-term consumption growth. We achieve identification by imposing a lower triangular structure with positive diagonal elements on $\\sigma$."
   ]
  },
  {
   "cell_type": "code",
   "execution_count": null,
   "metadata": {
    "ExecuteTime": {
     "end_time": "2020-01-07T08:07:04.757632Z",
     "start_time": "2020-01-07T08:07:04.753837Z"
    }
   },
   "outputs": [],
   "source": [
    "# Setting PARAMETERS\n",
    "\n",
    "delta = 0.002\n",
    "\n",
    "# (1) Baseline model\n",
    "alpha_z_hat = 0.0\n",
    "kappa_hat = 0.014\n",
    "\n",
    "alpha_c_hat = 0.484      # consumption intercept (estimated) \n",
    "beta_hat = 1.0\n",
    "sigma_c = np.array([0.477, 0.0  ])  # consumption exposure (= exposure of single capital)\n",
    "sigma_z = np.array([0.011, 0.025])"
   ]
  },
  {
   "cell_type": "markdown",
   "metadata": {},
   "source": [
    "## Single capital stock case"
   ]
  },
  {
   "cell_type": "markdown",
   "metadata": {},
   "source": [
    "### Parameter alternatives\n",
    "\n",
    "A planner is concerned about  alternative models for  capital evolution than baseline model $(1)$ in the following parametric class\n",
    "\n",
    "\\begin{align}\n",
    "d \\log K_t &= \\left[D_t - \\frac{\\phi}{2}\\left(D_t\\right)^2 + (.01)\\left( \\alpha_k +  \\beta Z_t \\right) - {\\frac {(.01)^2 |\\sigma_k|^2}2 } \\right] dt + (.01)\\sigma_k \\cdot dW^H_t \\label{eqn:model2} \\\\\n",
    "dZ_t &= \\left(\\alpha_z - \\kappa Z_t \\right)dt + \\sigma_z \\cdot dW^H_t \\nonumber\n",
    "\\tag{2}\n",
    "\\end{align}\n",
    "\n",
    "where $W^H$ denotes a distorted shock process of the form:\n",
    "\n",
    "\\begin{equation}\n",
    "dW_t = H_t dt + d{W}_t^H,\n",
    "\\end{equation}\n",
    "\n",
    "Uncertainty about $(\\alpha_k,\\beta)$ describes unknown components in  returns to investment while uncertainty about $(\\alpha_z,\\kappa)$ captures an unknown growth evolution process. We represent a model of the form $(2)$ by restricting the drift distortion $H$ for $W$ to satisfy\n",
    "\n",
    "\\begin{equation}\\label{eq:affine_drift}\n",
    "H_t = \\eta(X_t) \\doteq {\\eta }_0  + {\\eta }_1 Z_t\n",
    "\\end{equation}\n",
    "\n",
    "and using $(1)$  and  $(2)$ to deduce the following restrictions on $\\eta_0$ and $\\eta_1$ as functions of $(\\alpha_k, \\beta, \\alpha_z,  \\kappa)$:\n",
    "\\begin{align}\n",
    "\\sigma {\\eta}_0  = \\begin{bmatrix} {\\alpha}_k - {\\widehat \\alpha}_k \\cr {\\alpha}_z  -{\\widehat \\alpha}_z \\end{bmatrix}, \\hspace{2cm}\n",
    "\\sigma {\\eta}_1  = \\begin{bmatrix} \\beta - {\\widehat \\beta}  \\cr {\\widehat \\kappa} - { \\kappa}  \\end{bmatrix}\n",
    "\\tag{3}\n",
    "\\end{align}\n",
    "where\n",
    "\\begin{align}\n",
    "\\sigma \\doteq \\begin{bmatrix} (\\sigma_k)' \\cr (\\sigma_z)' \\end{bmatrix} .\n",
    "\\end{align}\n",
    "\n",
    "Pairs $(\\eta_0, \\eta_1)$ that satisfy restrictions $(3)$ represent models having parametric form $(2)$."
   ]
  },
  {
   "cell_type": "markdown",
   "metadata": {},
   "source": [
    "We restrict the set of alternative models by using a quadratic twisting function $\\xi(z)$. Following the method of section 3.2.1 we ensure that the set $\\mathcal{M}(\\xi)$ includes a prespecified quartet $({\\widetilde \\alpha}_k, {\\widetilde \\beta}, {\\widetilde \\alpha}_z, {\\widetilde \\kappa})$ by solving an instance of $(3)$ for ${\\widetilde \\eta}_0$ and ${\\widetilde \\eta}_1$, then setting\n",
    "\n",
    "\\begin{align}\n",
    "\\xi(x) =  \\left\\vert {\\widetilde \\eta}_0 + {\\widetilde \\eta}_1 z \\right\\vert^2.\n",
    "\\tag{4}\n",
    "\\end{align}\n",
    "\n",
    "For the quantitative examples below,  either we twist the pair $\\left({\\widetilde \\alpha}_z, {\\widetilde \\kappa}\\right)$ and form $\\xi^{[\\kappa]}$, or we twist the pair $({\\widetilde \\alpha}_z, {\\widetilde \\beta})$ and form $\\xi^{[\\beta]}$.\n",
    "\n",
    "\n",
    " To set worrisome parameters $\\left({\\widetilde \\alpha}_z, {\\widetilde \\kappa}\\right)$ or $({\\widetilde \\alpha}_z, {\\widetilde \\beta})$, we target the entropy of the implied worst-case model $M^{H^*}$ relative to the baseline model $(1)$. As discussed in section 3, relative entropy $\\Delta^*\\left(M^H\\right)$ of martingale process $M^H$ equals one half the expectation of $|H_t|^2$ under the $H$ induced probability model. As a result, we can parameterize relative entropy of the worst-case model using the scalar ${\\sf q}$:\n",
    " \\begin{align}\n",
    " \\Delta^*\\left(M^{H^*}\\right) = {\\frac {{\\sf q}^2}  2}\n",
    "\\end{align}\n",
    "\n",
    "One can think of ${\\sf q}$ as a measure of the magnitude of a probability distortion. We calibrate worrisome models to induce specific $\\mathsf{q}$ values.\n",
    "\n",
    "To see how state-dependence of a quadratic twisting function influences this calibration, We decomopose relative entropy into state-independent and state-dependent parts $\\xi(Z_t)=\\xi_0 + \\widetilde{\\xi}(Z_t)$ and suppose that twisted relative entropy constraint is satisfied with equality to arrive at\n",
    "\n",
    "\\begin{align}\n",
    "\\frac{\\mathsf{q}^2}{2} = \\Delta^*\\left(M^{H^*}\\right) = \\frac{\\xi_0}{2} + \\lim_{\\delta \\downarrow 0} \\frac{\\delta}{2}\\int \\exp(-\\delta \\tau)E\\left(M^{H^*}_{\\tau} \\widetilde{\\xi}(Z_{\\tau}) \\mid   \\mathcal F_0\\right)d\\tau \\doteq \\xi_0 + \\Omega(\\xi) .\n",
    "\\end{align}\n",
    "\n",
    "The last equality defines $\\Omega(\\xi)$ as the part of relative entropy that arises from state-dependence in $\\xi$. "
   ]
  },
  {
   "cell_type": "markdown",
   "metadata": {},
   "source": [
    "### Planner's Problem\n",
    "\n",
    "To capture a desire for robustness to parametric misspecifications represented by the class $(2)$, we suppose that the twisting function has the form $(4)$ and seek a function $V(z, k; \\ell) = \\log k + \\nu(z; \\ell)$ that satisfies the robust planner's HJB equation\n",
    "\\begin{align}\\label{hjb:robust}\n",
    "0 = & \\max_{d} \\min_{h} \\ \\ - \\delta \\nu(z; \\ell) + \\delta \\log ({\\mathcal A} - d) + \\left[d - {\\frac {\\phi} 2} d^2 +  (.01) \\left({\\widehat \\alpha}_k + {\\widehat \\beta} z - \\frac{(.01)|\\sigma_k^2|}{2}\\right)\\right] \\cr\n",
    "& \\quad\\quad + \\frac{\\partial \\nu(z; \\ell)}{ \\partial z}\\left( {\\widehat \\alpha}_z -{\\widehat \\kappa} z \\right) + \\frac{1}{2}\\frac{ \\partial^2 \\nu(z; \\ell)}{\\partial z^2} |\\sigma_z|^2 \\nonumber \\\\\n",
    "& \\quad\\quad + (.01) \\left[\\sigma_k \\cdot h\\right] + \\frac{\\partial \\nu(z; \\ell)}{\\partial z}\\left[\\sigma_z \\cdot h\\right]  +  \\frac{\\ell}{2}\\left[ |h|^2 - \\xi(z) \\right].\n",
    "\\tag{5}\n",
    "\\end{align}\n",
    "\n",
    "The last line of $(5)$ depicts how concerns about robustness enter the HJB equation via $h$. The minimizing choice of $h$ depends on the state $z$ through the marginal value function:\n",
    "\n",
    "\\begin{align}\n",
    "H^*(z; \\ell) & \\doteq \\begin{bmatrix}h^*_k \\\\ h^*_z \\end{bmatrix} = -\\frac{1}{\\ell}\\left[ (.01) \\sigma_k + \\frac{\\partial  \\nu(z ; \\ell)}{\\partial z}\\sigma_z  \\right]. \\tag{6}\n",
    "\\end{align}\n",
    "\n",
    "The  maximizing choice of $d$ solves:\n",
    "\n",
    "\\begin{align}\\label{eqn:d_star}\n",
    " 1 - \\phi d^* =   {\\frac \\delta  {{\\mathcal A} - d^*}}\n",
    "\\end{align}\n",
    "\n",
    "where $d^*$ denotes the chosen investment-capital ratio. Notice that  $d^*$ is constant and does not depend on the underlying state variables, so the optimal consumption-capital ratio $c^*=\\mathcal{A}-d^*$ is also constant. Because neither $c^*$ nor $d^*$ is affected by\n",
    "robustness concerns,  under the baseline model capital and  consumption dynamics are not altered by robustness concerns. We write the implied dynamics for the logarithm of consumption as:\n",
    "\n",
    "\\begin{align}\n",
    "d \\log C_t  = (.01)\\left({\\widehat \\alpha}_c  +  {\\widehat \\beta} Z_t\\right) dt + (.01)\\sigma_c \\cdot dW_t \\label{eq:baseline_consumption}\n",
    "\\end{align}\n",
    "\n",
    "where\n",
    "\n",
    "\\begin{align}\\label{eq:alpha_c}\n",
    "  {\\widehat \\alpha_c} = 100\\left(d^* - \\frac{\\phi}{2}\\left(d^*\\right)^2\\right) +  {\\widehat \\alpha}_k  - {\\frac {(.01) |\\sigma_k|^2}2 } \\hspace{15mm}\\text{and}\\hspace{15mm} \\sigma_c = \\sigma_k.\n",
    "\\end{align}"
   ]
  },
  {
   "cell_type": "markdown",
   "metadata": {},
   "source": [
    "In Appendix C.1, we show that the value function $\\nu(z; \\ell)$ is quadratic in $z$. As a consequence, $h^*$ is affine in $z$. The multiplier $\\ell^*$ is then determined by solving\n",
    "\n",
    "\\begin{align*}\n",
    "\\ell^*(z_0) = \\arg\\max_{\\ell>0} \\ \\nu(z_0; \\ell)\n",
    "\\end{align*}\n",
    "\n",
    "where $z_0$ is an initial value of $Z$. We can find the worst-case model by substituting $\\ell^*(z_0)$ in equation $(6)$."
   ]
  },
  {
   "cell_type": "code",
   "execution_count": null,
   "metadata": {
    "ExecuteTime": {
     "end_time": "2020-01-07T08:07:53.489181Z",
     "start_time": "2020-01-07T08:07:08.148898Z"
    }
   },
   "outputs": [],
   "source": [
    "try:\n",
    "    j.include(\"./code_new/newsets_singlecapital.jl\")\n",
    "    singlecapital_results = j.singlecapital()\n",
    "except RuntimeError:\n",
    "    j.include(\"./code_new/newsets_singlecapital.jl\")\n",
    "    singlecapital_results = j.singlecapital()"
   ]
  },
  {
   "cell_type": "code",
   "execution_count": null,
   "metadata": {
    "ExecuteTime": {
     "end_time": "2020-01-07T08:07:53.564940Z",
     "start_time": "2020-01-07T08:07:53.552253Z"
    }
   },
   "outputs": [],
   "source": [
    "print(\"======================Calibration Result=====================\")\n",
    "print(\"Calibrated values: A:\", singlecapital_results['A'])\n",
    "print(\"phi: \", singlecapital_results['phi'])\n",
    "print(\"alpha_k : \", singlecapital_results['alpha_k'])\n",
    "print(\"consumption-capital ratio : \", singlecapital_results['c'])\n",
    "print(\"investment-capital ratio: \", singlecapital_results['i'])\n",
    "print(\"=============================================================\")\n",
    "print(\"alpha_c_hat: \", singlecapital_results['alpha_c_hat'])\n",
    "print(\"technology parameters imply: \", singlecapital_results['tech'])"
   ]
  },
  {
   "cell_type": "markdown",
   "metadata": {},
   "source": [
    "### Figure 3: Examples of twisting functions  $\\xi^{[\\kappa]}$ and $\\xi^{[\\beta]}$ \n",
    "\n",
    "Figure 3 demonstrates twisting functions $\\xi^{[\\kappa]}$ and $\\xi^{[\\beta]}$ associated with worrisome $(\\widetilde{\\alpha}_z, \\widetilde{\\kappa})=(-.002, .005)$ and $(\\widetilde{\\alpha}_z, \\widetilde{\\beta})=(-.002, 1.215 )$, respectively. Dashed horizontal line shows the state-independent part of the twisting function, while the dotted horizontal line denotes relative entropy of the induce worst-case models with $\\mathsf{q}=.2$."
   ]
  },
  {
   "cell_type": "code",
   "execution_count": null,
   "metadata": {
    "ExecuteTime": {
     "end_time": "2020-01-07T08:07:53.945681Z",
     "start_time": "2020-01-07T08:07:53.612876Z"
    },
    "scrolled": false
   },
   "outputs": [],
   "source": [
    "Figure3()"
   ]
  },
  {
   "cell_type": "markdown",
   "metadata": {},
   "source": [
    " In the single-capital economy, we saw that the two twisting functions induce noticeably different worst-case models: while $\\xi^{[\\kappa]}$ tends to impart adverse shifts in the mean of $Z$, $\\xi^{[\\beta]}$ focuses relatively more attention on an increased  variance of $Z$."
   ]
  },
  {
   "cell_type": "markdown",
   "metadata": {},
   "source": [
    "## Two capital stocks"
   ]
  },
  {
   "cell_type": "markdown",
   "metadata": {},
   "source": [
    "### Setup\n",
    "We now extend investment opportunities by adding a second productive capital that can be used to produce the common consumption good with constant productivity. Under the baseline model, investment $I^{(1)}$ and $I^{(2)}$ affect two capital stocks $K^{(1)}$ and $K^{(2)}$ according to\n",
    "\\begin{align*}\n",
    "dK_t^{(1)} &= K_t^{(1)} \\left[\\left({\\frac {I_t^{(1)}}{K_t^{(1)}}}  - {\\frac {\\phi_1}  2}  \\left(\\frac{I_t^{(1)}}{K_t^{(1)}} \\right)^2 + (.01) \\left( {\\widehat \\alpha}_1 + {\\widehat \\beta}_1 Z_t   \\right)\\right) dt + (.01) \\sigma_1   \\cdot dW_t \\right] \\\\\n",
    "dK_t^{(2)} &=  K_t^{(2)} \\left[ \\left({\\frac{I_t^{(2)}}{K_t^{(2)}}}  -   {\\frac {\\phi_2}  2} \\left(\\frac{I_t^{(2)}}{K_t^{(2)}} \\right)^2 + (.01) \\left( {\\widehat \\alpha}_2 + {\\widehat \\beta}_2 Z_t \\right) \\right)  dt + (.01)  \\sigma_{2}  \\cdot dW_t \\right] \\\\\n",
    "dZ_t &= \\left({\\widehat \\alpha}_z   - {\\widehat \\kappa} Z_t \\right)dt + \\sigma_z \\cdot dW_t\n",
    "\\tag{7}\n",
    "\\end{align*}\n",
    "subject to the aggregate resource constraint\n",
    "\n",
    "\\begin{align*}\n",
    "C_t + I_t^{(1)} + I_t^{(2)} = \\mathcal{A}_1  K_t^{(1)} + \\mathcal{A}_2 K_t^{(2)}.\n",
    "\\end{align*}\n",
    "\n",
    "The two sectors are  identical in their technology parameters $\\left(\\mathcal{A}_1, \\phi_1, \\widehat{\\alpha}_1\\right)=\\left(\\mathcal{A}_2, \\phi_2, \\widehat{\\alpha}_2\\right)$ and exposures to the Brownian shocks, $\\sigma_1=\\sigma_2$, but  can differ in  exposures to long-run risk, so that $\\widehat{\\beta}_1 \\neq \\widehat{\\beta}_2$. To study how multiple capital stocks and  heterogeneity in their exposures to  long-run risk  affect decision rules and the worst-case model, we consider two cases:\n",
    "\n",
    "* __ex post heterogeneity:__ two capital stocks possess identical evolution equations but are exposed to idiosyncratic shocks that give rise to a non degenerate distribution of capital ex post. This case features a trade-off between diversification and adjustment costs similar to studied by [Eberly & Wang (2011)](https://www0.gsb.columbia.edu/faculty/nwang/papers/EberlyWang2011_04v3.pdf). We study how concerns about model misspecification affect this trade-off.\n",
    "\n",
    "* __ex ante heterogeneity:__ two capital stocks differ in their evolution equations, the first capital stock is immune to long-run risk because $\\widehat{\\beta}_1=0$, while the second capital stock is exposed to it because  $\\widehat{\\beta_2}>0$. %and alter the technology parameters so that the induced average consumption dynamics is identical to the single-capital economy.\n",
    "\n",
    "Like the case with a single capital stock, it is convenient to use the investment ratios $D_t^{(1)} \\doteq {\\frac {I_t^{(1)}}{K_t^{(1)}}}$ and $ D_t^{(2)} \\doteq {\\frac {I_t^{(2)}}{K_t^{(2)}}}$ as controls, and the logarithm of aggregate capital, $\\log K_t \\doteq \\log\\left(K^{(1)}+K^{(2)}\\right)$, and the long-run risk component, $Z$, as state variables. However, with  costly reallocation between the two capital stocks, the distribution of capital becomes an additional endogenous state variable that we express with the ratio\n",
    "\n",
    "\\begin{align*}\n",
    "R_t \\doteq \\frac{K^{(2)}_t}{K^{(1)}_t+ K^{(2)}_t} = \\frac{K^{(2)}_t}{K_t} \\in [0, 1].\n",
    "\\end{align*}\n",
    "\n",
    "Adjustment costs prevent the household from setting  $R_t$ ideally at every instant; instead the household  influences its motion at each instant  by setting the investment ratios $D_t^{(1)}$ and $D_t^{(2)}$.\n",
    "\n",
    "The state vector is then $X_t \\doteq \\left[\\log K_t, \\ R_t, \\ Z_t\\right]'$. "
   ]
  },
  {
   "cell_type": "markdown",
   "metadata": {},
   "source": [
    "### Planner's problem\n",
    "\n",
    "In Appendix C, we show that the value function of the robust planner is additively separable in $\\log K$, making the optimal investment ratios $d_1^*$ and $d_2^*$ become functions of $(R, Z)$ only. Implied equilibrium consumption is\n",
    "\\begin{align}\n",
    "\\log C_t = \\log K_t + \\log\\Big([\\mathcal{A}_1 - d^*_1(R_t, Z_t)](1-R_t) + [\\mathcal{A}_2-d^*_2(R_t, Z_t)]R_t \\Big).\n",
    "\\end{align}\n",
    "The worst-case model ceases to share the  parametric form of  the baseline model, but the distortion $h^*$ remains Markov and depends only on the contemporaneous capital distribution, $R_t$, and the long-run risk state $Z_t$.\n",
    "\n",
    "To induce independent variation in the two capital return processes, we presume that there are three underlying Brownian motions with volatility vectors\n",
    "\\begin{align*}\n",
    "\\sigma_1 &= \\mathsf{s}\\begin{bmatrix}\n",
    ".477  \\\\\n",
    "0 \\\\\n",
    "0\n",
    "\\end{bmatrix},\\quad \\sigma_2 = \\mathsf{s}\\begin{bmatrix}\n",
    "0 \\\\\n",
    ".477 \\\\\n",
    "0\n",
    "\\end{bmatrix}, \\quad \\sigma_z = \\begin{bmatrix}\n",
    ".011\\sqrt{.5} \\\\\n",
    ".011 \\sqrt{.5}\\\\\n",
    ".025\n",
    "\\end{bmatrix} ,\n",
    "\\end{align*}\n",
    "where $\\mathsf{s}$ is a scaling parameter that we introduce to control  effects of diversification on aggregate consumption volatility. Multiplying the first two entries of $\\sigma_z$ by $\\sqrt{.5}$ ensures that, despite having an extra shock, the local volatility of the long-run risk state, $|\\sigma_z|$, is unchanged relative to the single capital economy."
   ]
  },
  {
   "cell_type": "markdown",
   "metadata": {
    "ExecuteTime": {
     "end_time": "2020-01-06T18:34:20.177000-06:00",
     "start_time": "2020-01-07T00:34:19.790Z"
    }
   },
   "source": [
    "The state vector is\n",
    "\\begin{align*}\n",
    "X_t \\doteq \\left[\\log K_t, \\ L_t, \\ Z_t-\\bar{z}\\right]' \\quad\\quad \\log K_t \\doteq \\log\\left(K^{(1)}_t+ K^{(2)}_t\\right)\\quad\\quad L_t \\doteq \\log K^{(2)}_t - \\log K^{(1)}_t\n",
    "\\end{align*}\n",
    "\n",
    "For numerical stability concerns, we used $L_t$ defined above instead of capital distribution ratio $R_t$. One can get $R_t$ from $L_t$ using the one-to-one mapping $R_t=\\exp(L_t)/(1+\\exp(L_t))$. \n",
    "\n",
    "The period utility function is\n",
    "\\begin{align*}\n",
    "\\upsilon(X, D) &= \\delta \\log\\left((1-R)\\left(\\mathcal{A}_1 - D^{(1)}\\right) + R\\left(\\mathcal{A}_2 - D^{(2)}\\right) \\right) + \\delta \\log K\n",
    "\\end{align*}\n",
    "\n",
    "Denote  expected capital growth $E_t\\left[dK^{(i)}_t/K^{(i)}_t\\right]$ for $i=1, 2$ as\n",
    "$$\\varphi_i\\left(D_t^{(i)}, Z_t\\right) \\doteq D_t^{(i)} - \\frac{\\phi_i}{2}\\left(D_t^{(i)}\\right)^2 + (.01)\\left(\\widehat\\alpha_z + \\widehat\\beta Z_t\\right)$$\n",
    "State variables then follow\n",
    "\n",
    "\\begin{align*}\n",
    "d\\log K_t &= \\left[\\varphi_1 (1-R_t) + \\varphi_2 R_t - \\frac{(.01)^2\\left|\\sigma_1(1-R_t) + \\sigma_2 R_t\\right|^2}{2}\\right]dt + %\\\\\n",
    "%& \\hspace{1cm} +\n",
    "(.01)\\left[\\sigma_1(1-R_t) + \\sigma_2 R_t\\right]\\cdot dW_t \\\\\n",
    "dL_t &= \\left[\\varphi_2 - \\varphi_1 -  \\frac{(.01)^2}{2}\\left(|\\sigma_2|^2 - |\\sigma_1|^2 \\right)\\right] dt + (.01)\\left[\\sigma_2 -\\sigma_1\\right]\\cdot dW_t \\\\\n",
    "dZ_t &= - \\widehat\\kappa \\left(Z_t - \\bar z\\right)dt + \\sigma_z \\cdot dW_t\n",
    "\\end{align*}\n",
    "\n",
    "Using Ito's lemma, we can derive the following  dynamics for $R_t$:\n",
    "\n",
    "\\begin{align*}\n",
    "dR_t &= R_t(1-R_t)\\left[\\varphi_2 - \\varphi_1 +\n",
    "(.01)^2\\left(|\\sigma_1|^2(1-R_t) - |\\sigma_2|^2 R_t + \\sigma'_1\\sigma_2(2R_t-1)\\right)\\right] dt + \\\\\n",
    "& \\hspace{8cm} + R_t(1-R_t)(.01)\\left[\\sigma_2 -\\sigma_1\\right]\\cdot dW_t .\n",
    "\\end{align*}\n",
    "\n",
    "Let $\\sigma$ denote the stacked volatility matrix\n",
    "\n",
    "\\begin{align*}\n",
    "\\sigma(X_t) \\doteq \\begin{bmatrix}\n",
    "(.01)\\left(\\sigma'_1(1-R_t) + \\sigma'_2 R_t\\right) \\\\\n",
    "(.01)[\\sigma_2-\\sigma_1]' \\\\\n",
    "\\sigma'_z\n",
    "\\end{bmatrix} .\n",
    "\\end{align*}\n",
    "\n",
    "We seek a value function  $V(X) = \\log K + \\nu(L, Z)$ that solves the HJB equation\n",
    "\n",
    "\\begin{align}\n",
    "0 &= \\max_{d^{(1)}, d^{(2)}}\\min_{h} \\ \\delta\\log\\left((1-r)\\left(\\mathcal A_1 - d^{(1)}\\right) + r\\left(\\mathcal A_2 - d^{(2)}\\right) \\right) - \\delta\\nu(l, z) + \\frac{\\ell}{2}\\left[|h|^2 - \\xi(z)\\right] \\nonumber \\\\\n",
    "& \\quad\\quad + \\left[\\varphi_1(1-r) + \\varphi_2r - \\frac{(.01)^2\\left[\\sigma_1(1-r) + \\sigma_2 r\\right]^2}{2} + (.01)[(1-r)\\sigma_1 + r\\sigma_2]\\cdot h\\right]  \\nonumber \\\\\n",
    "& \\quad\\quad + \\nu_l(l, z)\\left[ \\varphi_2 - \\varphi_1 - \\frac{(.01)^2}{2}\\left(|\\sigma_2|^2  - |\\sigma_1|^2 \\right) + (.01)[\\sigma_2 - \\sigma_1]\\cdot h\\right] \\nonumber \\\\\n",
    "& \\quad\\quad + \\nu_z(l, z)\\left[ -\\widehat{\\kappa}(z-\\bar z) + \\sigma_z \\cdot h\\right] + \\frac{1}{2}\\text{tr}\\left(V_{xx}\\sigma\\sigma'\\right)\\label{eq:HJB}\n",
    "\\end{align}\n",
    "\n",
    "where\n",
    "\\begin{align*}\n",
    "\\text{tr}\\left(V_{xx}\\sigma\\sigma'\\right) &= (.01)^2|\\sigma_2-\\sigma_1|^2 \\nu_{ll}(l, z) +  2 (.01)\\left([\\sigma_2 - \\sigma_1]\\cdot \\sigma_z\\right)\\nu_{lz}(l, z) +  |\\sigma_z|^2 \\nu_{zz}(l, z).\n",
    "\\end{align*}\n",
    "\n",
    "We assume that a  Bellman-Isaacs condition holds so that first-order conditions can be stacked\n",
    "\n",
    "\\begin{align}\n",
    "\\frac{\\delta(1-r)}{(1-r)(\\mathcal A_1 - d^{(1)}(l, z))+r(\\mathcal A_2 - d^{(2)}(l, z))} &= \\left(1-\\phi_1d^{(1)}(l, z)\\right)\\left[1 - r - \\nu_l(l, z)\\right] \\label{eq:d1_opt} \\\\\n",
    "\\frac{\\delta r}{(1-r)(\\mathcal A_1 - d^{(1)}(l, z))+r(\\mathcal A_2 - d^{(2)}(l, z))} &= \\left(1-\\phi_2d^{(2)}(l, z)\\right)\\left[r + \\nu_l(l, z)\\right] \\label{eq:d2_opt} \\\\\n",
    "h(l, z, \\ell^*) &= - \\frac{1}{\\ell^*} \\sigma'(r)\\begin{bmatrix}\n",
    "1 \\\\\n",
    "\\nu_l(l, z) \\\\\n",
    "\\nu_z(l, z)\n",
    "\\end{bmatrix} . \\label{eq:h}\n",
    "\\end{align}\n",
    "\n",
    "These equations determine  optimal investment-capital ratios $d^{(1)}(l, z)$ and $d^{(2)}(l, z)$, and also the worst-case drift distortion $h(l, z)$.\n",
    "Here  $\\ell^*$ is the multiplier that makes the minimizing agent's constraint bind for a given initial $(l_0, z_0)$:\n",
    "\n",
    "\\begin{align*}\n",
    "\\ell^*(l_0, z_0) = \\text{arg}\\max_\\ell \\ \\ \\nu(l_0, z_0, \\ell).\n",
    "\\end{align*}"
   ]
  },
  {
   "cell_type": "markdown",
   "metadata": {},
   "source": [
    "### Symmetric returns to two capital stocks"
   ]
  },
  {
   "cell_type": "markdown",
   "metadata": {},
   "source": [
    "Consider the case with  __ex post__ heterogeneity only, that is, set ${\\widehat \\beta}_1 = {\\widehat \\beta}_2 = .5$ and $({\\mathcal A}_1, \\phi_1, \\widehat\\alpha_1) = ({\\mathcal A}_2, \\phi_2, \\widehat\\alpha_2)=({\\mathcal A}, \\phi, \\widehat\\alpha_k)$ using values from calibration results in section 1.2 . Because diversification can reduce aggregate consumption volatility, we increase the exposures $\\sigma_1=\\sigma_2$ relative to the single-capital economy by setting $\\mathsf{s}=1.32$, so that average volatility of equilibrium consumption growth  equal  that estimated from U.S. data.\n"
   ]
  },
  {
   "cell_type": "code",
   "execution_count": null,
   "metadata": {
    "ExecuteTime": {
     "end_time": "2020-01-07T04:43:19.261962Z",
     "start_time": "2020-01-07T04:41:46.366630Z"
    }
   },
   "outputs": [],
   "source": [
    "j.include(\"./code_new/newsets_twocapitals.jl\")\n",
    "j.twocapitals(1,0,0)"
   ]
  },
  {
   "cell_type": "markdown",
   "metadata": {},
   "source": [
    "#### Figure 4: Features of robust controls and the worst-case model with __ex post__ heterogeneity. \n",
    "\n",
    "*Left panel*: Optimal investment ratio as a function of the allocation of capital.\n",
    "\n",
    "*Right panel*: stationary distributions (marginals and $90%$ ''confidence sets'') for the states $(R, Z)$ under three scenarios: \n",
    "* __Solid__: with non-robust controls using the baseline state evolution, \n",
    "* <font color='red'>Dashed:</font> with robust controls using the baseline state evolution, \n",
    "* <font color='blue'>Dotted:</font> with robust controls using the worst-case state evolution. \n",
    "* <font color='green'>Dash-dotted:</font>denotes the worst-case mean of $Z$ in the single capital economy. \n",
    "\n",
    "Thin dashed lines show median values of the states under the baseline model with robust controls."
   ]
  },
  {
   "cell_type": "code",
   "execution_count": null,
   "metadata": {
    "ExecuteTime": {
     "end_time": "2020-01-07T08:08:10.269468Z",
     "start_time": "2020-01-07T08:08:09.589597Z"
    }
   },
   "outputs": [],
   "source": [
    "mm_sym = Model(np.load('./data/model_sym_HS.npz'))\n",
    "mm_sym.figure_1(left_top_ylim=[.031, .035], numb_lcurves=4)"
   ]
  },
  {
   "cell_type": "markdown",
   "metadata": {},
   "source": [
    "### Asymmetric returns to two capital stocks\n",
    "\n",
    "We now turn to \\emph{ex ante} heterogeneity by studying an economy in which the two capital stocks are exposed to long run uncertainty asymmetrically.\n",
    " In particular, we set $\\widehat{\\beta}_1=0$ and $\\widehat{\\beta}_2=.5$ and choose $\\mathsf{s}=1.14$ so that unconditional means of the drift and volatility terms of equilibrium consumption growth are equal to those estimated from U.S. data.\n"
   ]
  },
  {
   "cell_type": "code",
   "execution_count": null,
   "metadata": {
    "ExecuteTime": {
     "end_time": "2020-01-07T04:50:19.830250Z",
     "start_time": "2020-01-07T04:43:20.395451Z"
    }
   },
   "outputs": [],
   "source": [
    "j.include(\"./code_new/newsets_twocapitals.jl\")\n",
    "j.twocapitals(0,0,0)"
   ]
  },
  {
   "cell_type": "markdown",
   "metadata": {},
   "source": [
    "#### Figure 6: Features of robust controls and the worst-case model with __ex ante__ heterogeneity. \n",
    "\n",
    "*Left panel*: Optimal investment ratio as a function of the allocation of capital.\n",
    "\n",
    "*Right panel*: stationary distributions (marginals and $90%$ ''confidence sets'') for the states $(R, Z)$ under three scenarios: \n",
    "* __Solid__: with non-robust controls using the baseline state evolution, \n",
    "* <font color='red'>Dashed:</font> with robust controls using the baseline state evolution, \n",
    "* <font color='blue'>Dotted:</font> with robust controls using the worst-case state evolution. \n",
    "* <font color='green'>Dash-dotted:</font>denotes the worst-case mean of $Z$ in the single capital economy. \n",
    "\n",
    "Thin dashed lines show median values of the states under the baseline model with robust controls.\n",
    "\n",
    "Shaded areas on the left panel show inter-decile ranges for the stationary distributions of $Z$ under the baseline model with the thin dash-dotted line denoting the $.9$ decile."
   ]
  },
  {
   "cell_type": "code",
   "execution_count": null,
   "metadata": {
    "ExecuteTime": {
     "end_time": "2020-01-07T08:08:16.315900Z",
     "start_time": "2020-01-07T08:08:15.615465Z"
    }
   },
   "outputs": [],
   "source": [
    "mm_asym = Model(np.load('./data/model_asym_HS.npz'))\n",
    "mm_asym.figure_1(left_top_ylim=[.031, .035], numb_lcurves=4)"
   ]
  },
  {
   "cell_type": "markdown",
   "metadata": {},
   "source": [
    "### Generalized impulse response functions (IRFS)\n",
    "To study the speed of convergence of the capital distribution, Figure 5 plots the  generalized impulse response functions (IRFs) proposed by [Gallant et al.(1993)](https://www.jstor.org/stable/2951766?seq=1#metadata_info_tab_contents)  and [Koop et al.(1996)](https://www.sciencedirect.com/science/article/abs/pii/0304407695017534). The impulse response of $R$ for the linear combination of shocks chosen by the vector $\\mathsf{w}$ is defined as\n",
    "\n",
    "\\begin{align*}\n",
    "  \\Phi_{R}(t, x, \\mathsf{w}) \\doteq E\\left[R_t \\ | \\ dW_0=\\mathsf{w}, X_0=x\\right] - E\\left[R_t \\ | \\ dW_0=0, X_0=x\\right].\n",
    "  \\tag{8}\n",
    "\\end{align*}\n",
    "\n",
    "Because our model is nonlinear, the generalized impulse responses depend on the initial state $x$ and shock vector $\\mathsf{w}$. We focus on  effects of a positive one standard deviation shock to the second capital stock and evaluate $\\Phi_R$ at the median of the stationary distribution of $R$. As illustrated by the left panel of Figure 5, idiosyncratic capital shocks have small but very persistent effects on the capital distribution. Since the robust investment rates are more sensitive to $R$ than those without robustness (see left panel of Figure 4), the persistence of $R$ is slightly reduced when the household is concerned about model misspecification. The dependence of $\\Phi_R$ on the initial capital distribution is very small. This follows from the fact that with homogeneous exposure to long run risk, the dynamics of $R$ and $Z$ are independent of each other. Among other things, this implies that (1) shock to the long run risk state does not affect $\\Phi_R$, and (2) the IRFs on the left panel of Figure 5 do not depend on $Z_0$.\n"
   ]
  },
  {
   "cell_type": "markdown",
   "metadata": {},
   "source": [
    "#### Figure 5: Impulse response functions (IRFs) of $R$ to the second idiosyncratic shock with symmetric and asymmetric returns \n",
    "\n",
    "*Left panel*: symmetric returns\n",
    "\n",
    "*Right panel*: asymmetric returns\n",
    "* __Solid__: with non-robust controls using the baseline state evolution, \n",
    "* <font color='red'>Dashed:</font> with robust controls using the baseline state evolution, \n",
    "* <font color='blue'>Dotted:</font> with robust controls using the worst-case state evolution. \n",
    "\n",
    "The size of the shock is $\\mathsf{w}=[0, 1, 0]'$. The initial $R_0$ is set at the median of the stationary distributions of $R$ under the baseline model. In all cases, $Z_0= \\bar{z}$. For explanation of the different colors see the caption of Figure 4"
   ]
  },
  {
   "cell_type": "code",
   "execution_count": null,
   "metadata": {
    "ExecuteTime": {
     "start_time": "2020-01-07T05:36:33.030Z"
    }
   },
   "outputs": [],
   "source": [
    "j.include(\"./code_new/newsets_twocapitals.jl\")\n",
    "j.twocapitals(1,0,1)\n",
    "j.include(\"./code_new/newsets_twocapitals.jl\")\n",
    "j.twocapitals(0,0,1)"
   ]
  },
  {
   "cell_type": "code",
   "execution_count": null,
   "metadata": {
    "ExecuteTime": {
     "end_time": "2020-01-07T08:04:46.844311Z",
     "start_time": "2020-01-07T08:04:46.833799Z"
    }
   },
   "outputs": [],
   "source": [
    "Figure5()"
   ]
  },
  {
   "cell_type": "markdown",
   "metadata": {},
   "source": [
    "#### Figure 7: Drift of Long run risk state and IRFs of Z\n",
    "\n",
    "The worst-case model makes  the drift of $R$ become $Z$ dependent.  In addition, under the household's __ex post__ Bayesian belief, the long-run risk state is no longer exogenous. Instead, as depicted by the left panel of Figure 7, the robust household expects  larger falls in $Z$ when  holdings more of the  $Z$-exposed asset. The right panel of Figure 7 (accompanied with the right panel of Figure 5) illustrates how such beliefs affect the perceived impulse response of  the long-run risk state to an idiosyncratic capital shock: (1) for short horizons, the positive response appears *less* persistent than it is under the baseline model;  and (2) for longer horizons, the effect becomes negative temporarily."
   ]
  },
  {
   "cell_type": "code",
   "execution_count": null,
   "metadata": {
    "ExecuteTime": {
     "end_time": "2020-01-07T08:04:49.975090Z",
     "start_time": "2020-01-07T08:04:49.967134Z"
    }
   },
   "outputs": [],
   "source": [
    "Figure7()"
   ]
  },
  {
   "cell_type": "markdown",
   "metadata": {},
   "source": [
    "## Price of model uncertainty\n",
    "\n"
   ]
  },
  {
   "cell_type": "markdown",
   "metadata": {},
   "source": [
    "### An affine stochastic discount factor\n",
    "Consider first the economy with a single capital stock. We construct market prices of risk and uncertainty from  shadow prices for the planning problem from section 2.2. By evaluating the household's  marginal rate of substitution at the proposed equilibrium consumption process, we deduce a stochastic discount factor process $\\Lambda$ that obeys\n",
    "\n",
    "\\begin{equation}\n",
    "d \\Lambda_t = - \\underbrace{(.01)\\left[100\\delta + {\\widehat \\alpha_c} +{\\widehat \\beta} Z_t + \\sigma'_c H_t^* - \\frac{(.01)|\\sigma_c|^2}{2} \\right]}_{\\text{risk free rate}}dt - \\left[\\underbrace{(.01)\\sigma_c}_{\\text{risk price}} + \\underbrace{- H_t^*}_{\\substack{\\text{uncertainty} \\\\ \\text{price}}}\\right]' d W_t .\n",
    "\\tag{9}\n",
    "\\end{equation}\n",
    "\n",
    "The log stochastic discount factor has a linear-quadratic local mean and local variance. The instantaneous interest rate is affine in the state variable as are  uncertainty prices. Functional forms of this type have been used extensively in empirical asset pricing applications. A prominent example is [Ang and Piazzesi (2003)](https://web.stanford.edu/~piazzesi/AP.pdf) who estimated a term structure model with an exponential quadratic stochastic discount factor process driven by macroeconomic state variables. More recently, [Piazzesi et al. (2015)](https://pdfs.semanticscholar.org/c31c/79642e61c86d8eb28e53e1c2175869774602.pdf) assumed an affine form for the likelihood ratio between a well-fitting statistical model of zero-coupon interest rates and a potentially different model assumed to be used by financial experts' to make forecasts about those interest rates. Using survey data on expert's forecasts, they found large and systematic differences between the two models.\n",
    "\n",
    "Minus the local exposures to the Brownian shocks are usually interpreted as local __risk prices__, but we   reinterpret them as follows. We  think of $(.01)\\sigma_c$ as risk prices induced by the curvature of log utility and $-H^*_t$ as __uncertainty prices__ induced by a representative investor's doubts about different aspects of the baseline model. For the single-capital economy, the uncertainty price takes the form\n",
    "\n",
    "\\begin{align}\\label{eq:def_U}\n",
    "U_t \\doteq -H_t^* = -\\eta_0^* - \\eta_1^* Z_t .\n",
    "\\tag{10}\n",
    "\\end{align}\n",
    "\n",
    "In the constant $\\xi$ case, $\\eta_1^* =0$, hence $U_t$ is constant; but when $\\xi$ is state dependent, $\\eta_1^*$ differs from zero, so  the uncertainty prices are time varying and depend linearly on the growth state $Z_t$. When $U$ depends positively on $Z$, uncertainty prices are higher in bad than in good times. It is noteworthy that countercyclical uncertainty prices emerge endogenously from a  baseline model that excludes stochastic volatility in the underlying consumption risk as an exogenous input under the baseline model."
   ]
  },
  {
   "cell_type": "markdown",
   "metadata": {},
   "source": [
    "#### Figure 8: Local uncertainty prices of capital shock and long-run risk shock\n",
    "Figure 8 direct capital shock (dashed) and the long-run risk shock (solid) for the economy with a single capital stock. \n",
    "The state-dependent twisting functions $\\xi^{[\\kappa]}$ and $\\xi^{[\\beta]}$ are induced by worrisome models $(\\widetilde{\\alpha}_z, \\widetilde\\kappa)=(-.002, .005)$ and $(\\widetilde{\\alpha}_z, \\widetilde{\\beta})=(-.002, 1.215 )$, respectively. The constant twisting function is associated with $\\widetilde{\\alpha}_z=-.005$. In all cases, $\\mathsf{q}=.2$. We evaluate $\\ell^{*}(z_0, \\theta)$ using $\\bar z$ as the initial state for the calculations. NBER recessions are shaded."
   ]
  },
  {
   "cell_type": "code",
   "execution_count": null,
   "metadata": {
    "ExecuteTime": {
     "end_time": "2020-01-07T08:08:36.465905Z",
     "start_time": "2020-01-07T08:08:36.378033Z"
    },
    "scrolled": false
   },
   "outputs": [],
   "source": [
    "Figure8()"
   ]
  },
  {
   "cell_type": "markdown",
   "metadata": {},
   "source": [
    "Figure 8 depicts estimates of the local uncertainty prices associated with the two shocks using the three specifications of $\\xi$. These estimates were obtained by first using the Kalman\n",
    "filter to estimate  $\\widehat Z_t = E [ Z_t | \\Delta \\log C_t, \\ldots, \\Delta\\log C_1]$ under the baseline model of section 1. For each twisting function, we then constructed a bivariate time series model $(10)$ for the two Brownian shocks using the implied worst-case distortion. \n",
    "\n",
    "These series are depicted in Figure 8. Evidently, the estimated uncertainty prices from the state-dependent twisting functions all fluctuate over time in a __countercyclical__ manner. These fluctuations arise because both shocks hit the long-run risk state and so affect the __size of the entropy ball__ through $\\xi(z)$. This makes uncertainty prices increase during times of diminished expected consumption growth. Fluctuations are proportional since they are constructed as an affine function of the single state variable $Z$.\n"
   ]
  },
  {
   "cell_type": "markdown",
   "metadata": {},
   "source": [
    "### Economies with two capital stocks\n",
    "Although uncertainty prices do not have an affine representation in our settings with two capital stocks,  they still equal  $-H^*(R, Z)$, where $H^*$ is a vector of worst-case distortions to the Brownian shocks. In these settings, $U_t$ also depends on the distribution of capital $R$. To make settings with three shocks comparable with the single capital economy, we construct exposure to an equally weighted sum of the first two shocks scaled to have a unit variance. We compare the uncertainty price of the shock to capital to that for  the long-run shock to the  growth rate  in the section 3.3 (symmetric returns) and the section 3.4 (asymmetric returns) economies.\n"
   ]
  },
  {
   "cell_type": "markdown",
   "metadata": {},
   "source": [
    "We use parameter values that ensure that in all cases $\\mathsf{q}=.2$ and that the unconditional means of the drift and volatility of equilibrium consumption growth  equal  those estimated from U.S. data. With symmetric returns to capital, $\\xi^{[\\kappa]}$ and $\\xi^{[\\beta]}$ are constructed from $(\\widetilde{\\alpha}_z, \\widetilde{\\kappa})=(-.0015, .005)$ and $(\\widetilde{\\alpha}_z, \\widetilde{\\beta}_1, \\widetilde{\\beta}_2)=(-.0015, 1.194, 1.184)$, respectively. With asymmetric returns to capital, $\\xi^{[\\kappa]}$ and $\\xi^{[\\beta]}$ are constructed from $(\\widetilde{\\alpha}_z, \\widetilde{\\kappa})=(-.0023, .005)$ and $(\\widetilde{\\alpha}_z, \\widetilde{\\beta}_1, \\widetilde{\\beta}_2)=(-.0023, 1.194, 1.194)$, respectively."
   ]
  },
  {
   "cell_type": "code",
   "execution_count": null,
   "metadata": {
    "ExecuteTime": {
     "start_time": "2020-01-07T08:08:43.305Z"
    }
   },
   "outputs": [],
   "source": [
    "# Estimating new models for figure 9\n",
    "j.include(\"./code_new/newsets_twocapitals.jl\")\n",
    "j.twocapitals(1,1,0)\n",
    "j.twocapitals(0,1,0)\n",
    "j.twocapitals(1,2,0)\n",
    "j.twocapitals(0,2,0)"
   ]
  },
  {
   "cell_type": "markdown",
   "metadata": {},
   "source": [
    "#### Figure 9: Stationary distributions of local uncertainty prices\n",
    "Figure 9 demonstrates stationary distributions of local uncertainty prices induced by the two state-dependent twisting functions in economies with symmetric (solid) and asymmetric (dotted) returns to capital.\n",
    "Prices are plotted under the stationary distribution of the baseline model with robust controls. The left panel shows the uncertainty price of an equally weighted sum of the first two idiosyncratic capital shocks scaled to have a unit variance."
   ]
  },
  {
   "cell_type": "code",
   "execution_count": null,
   "metadata": {
    "ExecuteTime": {
     "start_time": "2020-01-07T08:08:46.409Z"
    }
   },
   "outputs": [],
   "source": [
    "Figure9()"
   ]
  },
  {
   "cell_type": "code",
   "execution_count": null,
   "metadata": {},
   "outputs": [],
   "source": []
  }
 ],
 "metadata": {
  "kernelspec": {
   "display_name": "Python 3",
   "language": "python",
   "name": "python3"
  },
  "language_info": {
   "codemirror_mode": {
    "name": "ipython",
    "version": 3
   },
   "file_extension": ".py",
   "mimetype": "text/x-python",
   "name": "python",
   "nbconvert_exporter": "python",
   "pygments_lexer": "ipython3",
   "version": "3.7.3"
  },
  "toc": {
   "base_numbering": 1,
   "nav_menu": {},
   "number_sections": true,
   "sideBar": true,
   "skip_h1_title": true,
   "title_cell": "Table of Contents",
   "title_sidebar": "Contents",
   "toc_cell": true,
   "toc_position": {
    "height": "calc(100% - 180px)",
    "left": "10px",
    "top": "150px",
    "width": "249.667px"
   },
   "toc_section_display": true,
   "toc_window_display": true
  },
  "varInspector": {
   "cols": {
    "lenName": 16,
    "lenType": 16,
    "lenVar": 40
   },
   "kernels_config": {
    "python": {
     "delete_cmd_postfix": "",
     "delete_cmd_prefix": "del ",
     "library": "var_list.py",
     "varRefreshCmd": "print(var_dic_list())"
    },
    "r": {
     "delete_cmd_postfix": ") ",
     "delete_cmd_prefix": "rm(",
     "library": "var_list.r",
     "varRefreshCmd": "cat(var_dic_list()) "
    }
   },
   "types_to_exclude": [
    "module",
    "function",
    "builtin_function_or_method",
    "instance",
    "_Feature"
   ],
   "window_display": false
  }
 },
 "nbformat": 4,
 "nbformat_minor": 2
}
