{
 "cells": [
  {
   "cell_type": "markdown",
   "metadata": {},
   "source": [
    "# Twisted Probabilities, Uncerntainty, and Prices\n",
    "by [Lars Peter Hansen](https://larspeterhansen.org/), [Bálint Szőke](https://www.balintszoke.com/), Lloyd S. Han and [Thomas J.Sargent](http://www.tomsargent.com/), you could find the latest draft [here](https://larspeterhansen.org/research/papers/). \n",
    "\n",
    "We illustrate effects of concerns about robustness in three environments using a model of capital accumulation with adjustment costs proposed by [Eberly & Wang (2011)](https://www0.gsb.columbia.edu/faculty/nwang/papers/EberlyWang2011_04v3.pdf). We modify their model to expose investment returns  to long-run risks and make investors concerned  about misspecifications of them. Three distinct example economies environments feature:\n",
    "* a single capital stock\n",
    "* two capital stocks with a common exposure to long-run risk\n",
    "*  two capital stocks with only one being exposed to long-run risk\n",
    "\n",
    "The notebook presents the code for single capital model accompanying section 6 in the paper"
   ]
  },
  {
   "cell_type": "markdown",
   "metadata": {
    "toc": true
   },
   "source": [
    "<h1>Table of Contents<span class=\"tocSkip\"></span></h1>\n",
    "<div class=\"toc\"><ul class=\"toc-item\"><li><span><a href=\"#Baseline-model\" data-toc-modified-id=\"Baseline-model-1\"><span class=\"toc-item-num\">1&nbsp;&nbsp;</span>Baseline model</a></span><ul class=\"toc-item\"><li><span><a href=\"#Setup\" data-toc-modified-id=\"Setup-1.1\"><span class=\"toc-item-num\">1.1&nbsp;&nbsp;</span>Setup</a></span></li><li><span><a href=\"#Calibration\" data-toc-modified-id=\"Calibration-1.2\"><span class=\"toc-item-num\">1.2&nbsp;&nbsp;</span>Calibration</a></span></li></ul></li><li><span><a href=\"#Single-Capital-Stock-Case\" data-toc-modified-id=\"Single-Capital-Stock-Case-2\"><span class=\"toc-item-num\">2&nbsp;&nbsp;</span>Single Capital Stock Case</a></span><ul class=\"toc-item\"><li><span><a href=\"#Parameter-alternatives\" data-toc-modified-id=\"Parameter-alternatives-2.1\"><span class=\"toc-item-num\">2.1&nbsp;&nbsp;</span>Parameter alternatives</a></span></li><li><span><a href=\"#Planner's-Problem\" data-toc-modified-id=\"Planner's-Problem-2.2\"><span class=\"toc-item-num\">2.2&nbsp;&nbsp;</span>Planner's Problem</a></span></li></ul></li></ul></div>"
   ]
  },
  {
   "cell_type": "code",
   "execution_count": 5,
   "metadata": {
    "ExecuteTime": {
     "end_time": "2020-01-06T15:52:48.163000-06:00",
     "start_time": "2020-01-06T21:52:41.881Z"
    }
   },
   "outputs": [
    {
     "name": "stdout",
     "output_type": "stream",
     "text": [
      "\u001b[32m\u001b[1m Resolving\u001b[22m\u001b[39m package versions...\n",
      "\u001b[32m\u001b[1m  Updating\u001b[22m\u001b[39m `~/.julia/environments/v1.3/Project.toml`\n",
      "\u001b[90m [no changes]\u001b[39m\n",
      "\u001b[32m\u001b[1m  Updating\u001b[22m\u001b[39m `~/.julia/environments/v1.3/Manifest.toml`\n",
      "\u001b[90m [no changes]\u001b[39m\n",
      "\u001b[32m\u001b[1m Resolving\u001b[22m\u001b[39m package versions...\n",
      "\u001b[32m\u001b[1m  Updating\u001b[22m\u001b[39m `~/.julia/environments/v1.3/Project.toml`\n",
      "\u001b[90m [no changes]\u001b[39m\n",
      "\u001b[32m\u001b[1m  Updating\u001b[22m\u001b[39m `~/.julia/environments/v1.3/Manifest.toml`\n",
      "\u001b[90m [no changes]\u001b[39m\n",
      "\u001b[32m\u001b[1m Resolving\u001b[22m\u001b[39m package versions...\n",
      "\u001b[32m\u001b[1m  Updating\u001b[22m\u001b[39m `~/.julia/environments/v1.3/Project.toml`\n",
      "\u001b[90m [no changes]\u001b[39m\n",
      "\u001b[32m\u001b[1m  Updating\u001b[22m\u001b[39m `~/.julia/environments/v1.3/Manifest.toml`\n",
      "\u001b[90m [no changes]\u001b[39m\n",
      "\u001b[32m\u001b[1m Resolving\u001b[22m\u001b[39m package versions...\n",
      "\u001b[32m\u001b[1m  Updating\u001b[22m\u001b[39m `~/.julia/environments/v1.3/Project.toml`\n",
      "\u001b[90m [no changes]\u001b[39m\n",
      "\u001b[32m\u001b[1m  Updating\u001b[22m\u001b[39m `~/.julia/environments/v1.3/Manifest.toml`\n",
      "\u001b[90m [no changes]\u001b[39m\n"
     ]
    },
    {
     "data": {
      "text/plain": [
       "shock_price (generic function with 1 method)"
      ]
     },
     "execution_count": 5,
     "metadata": {},
     "output_type": "execute_result"
    }
   ],
   "source": [
    "# Install and import Necessary packages\n",
    "using Pkg\n",
    "Pkg.add(\"Optim\")\n",
    "Pkg.add(\"Roots\")\n",
    "Pkg.add(\"NPZ\")\n",
    "Pkg.add(\"Interpolations\")\n",
    "using Optim\n",
    "using Roots\n",
    "using NPZ\n",
    "\n",
    "include(\"newsets_utils.jl\")"
   ]
  },
  {
   "cell_type": "markdown",
   "metadata": {},
   "source": [
    "## Baseline model"
   ]
  },
  {
   "cell_type": "markdown",
   "metadata": {},
   "source": [
    "### Setup\n",
    "\n",
    "Aggregate output is proportional to a single capital stock with a constant productivity parameter $\\mathcal{A}$. A representative household cares about consumption $C$ with instantaneous utility $\\delta\\log C$. Under the baseline model, investment $I$ affects capital $K$ according to\n",
    "\n",
    "\\begin{align}\n",
    "dK_t &= \\left[\\frac{I_t}{K_t} - \\frac{\\phi}{2}\\left(\\frac{I_t}{K_t}\\right)^2 + (.01)\\left(\\widehat \\alpha_k + \\widehat \\beta Z_t \\right)\\right]K_t dt + (.01)\\sigma_k K_t\\cdot dW_t \\label{eqn:model}\\\\\n",
    "dZ_t &= \\left(\\widehat\\alpha_z -\\widehat \\kappa Z_t \\right)dt + \\sigma_z \\cdot dW_t \\nonumber\n",
    "\\tag{1}\n",
    "\\end{align}\n",
    "\n",
    "with adjustment cost parameter $\\phi$. With zero investment, the rate of change of capital is $(.01)\\left(\\widehat\\alpha_k + \\widehat\\beta Z_t\\right)$, where $Z$ is an exogenously specified continuous-time scalar autoregressive process  that puts long-term risks into  returns on capital. Under baseline model $(1)$, the mean of $Z$ is  ${\\overline z} = {\\frac {{\\widehat \\alpha}_z} {{\\widehat \\kappa}}}$.\n",
    "\n",
    "he aggregate resource constraint is $C + I = {\\cal A} K$. It is convenient to pose a robust planner's problem in terms of an investment-capital ratio $D_t \\doteq\\frac{I_t}{K_t}$ and $\\log K_t$ that satisfy\n",
    "\\begin{align*}\n",
    "d \\log K_t = \\left[D_t - \\frac{\\phi}{2}\\left(D_t\\right)^2 + (.01)\\left(\\widehat \\alpha_k + \\widehat \\beta Z_t \\right) - {\\frac {(.01)^2 |\\sigma_k|^2}{2}} \\right] dt + (.01)\\sigma_k \\cdot dW_t.\n",
    "\\end{align*}\n",
    "Denote state variable as $X_t = [\\log K_t,\\ Z_t]'$ and instantaneous utility function\n",
    "\\begin{align*}\n",
    "\\upsilon(X_t, D_t) = \\delta\\log\\left({\\mathcal A}- D_t\\right) + \\delta\\log K_t.\n",
    "\\end{align*}\n",
    "\n"
   ]
  },
  {
   "cell_type": "markdown",
   "metadata": {},
   "source": [
    "### Calibration"
   ]
  },
  {
   "cell_type": "markdown",
   "metadata": {},
   "source": [
    "The basis of our quantitative analysis is an empirical model of  aggregate consumption dynamics. Our code for VAR estimation could be found in __VAR Estimation__ section of Git hub repository [Tenuous Belief](https://github.com/lphansen/TenuousBeliefs).\n",
    "\n",
    "We follow [Hansen et al. (2008)](http://larspeterhansen.org/wp-content/uploads/2016/10/Consumption-Strikes-Back-Measuring-Long-Run-Risk.pdf) by fitting a trivariate VAR for macroeconomic time series that contain information about long-term consumption growth, namely,\n",
    "log consumption growth, the difference between logs of business income and consumption, and the difference between logs of personal dividend income and\n",
    "consumption.\n",
    "\n",
    "The time series are quarterly data from 1948 Q1 to 2018 Q2. Our consumption measure is per capita consumption of non-durables and services from NIPA Table 1.1.5. Business income is measured as proprietor's income plus corporate profits per capita and the series are from NIPA Table 1.12. Personal dividend income is from NIPA Table 2.1. By including proprietors' income in addition to corporate profits, we use a broader measure of business income than [Hansen et al. (2008)](http://larspeterhansen.org/wp-content/uploads/2016/10/Consumption-Strikes-Back-Measuring-Long-Run-Risk.pdf), who used only corporate profits. Moreover, [Hansen et al. (2008)](http://larspeterhansen.org/wp-content/uploads/2016/10/Consumption-Strikes-Back-Measuring-Long-Run-Risk.pdf) did not include  personal dividends in their VAR analysis.\n",
    "We restrict  all three time series to have a common martingale component by imposing a known cointegration relation among them.\n",
    "\n",
    "We convert the discrete time VAR estimates to baseline parameters $({\\widehat \\alpha}_k,  {\\widehat \\beta}, {\\widehat \\alpha}_z, {\\widehat \\kappa} )$ and $(\\sigma_c, \\sigma_z)$ by setting ${\\widehat \\alpha}_z=0$ and $\\widehat{\\beta}=1$ and matching the dynamics of the VAR implied long-term consumption growth forecast with those of $Z$.\n",
    "As a result, we obtain the following parameters for the baseline model of consumption $(1)$:\n",
    "\n",
    "\\begin{align} \n",
    "& \\begin{matrix}\n",
    "{\\widehat \\alpha}_c  & = & .484 & & {\\widehat \\beta} &= &1 \\cr\n",
    "{\\widehat \\alpha}_z  &= & 0 &  & {\\widehat \\kappa} & = & .014 \\end{matrix} \\cr\n",
    "& \\sigma = \\begin{bmatrix}\n",
    "(\\sigma_c)' \\cr (\\sigma_z)' \\end{bmatrix}  =  \\begin{bmatrix} .477 & 0 \\cr  .011 & .025 \\end{bmatrix} .\n",
    "\\end{align}\n",
    "\n",
    "We set the household's subjective discount rate equal to $\\delta=.002.$\n",
    "\n",
    "In more detail, we choose $\\widehat{\\alpha}_c$ and $(1-\\widehat{\\kappa})$ to match the VAR implied unconditional mean of consumption growth and autoregressive coefficient of expected long-term consumption growth, respectively. In addition, we set $(\\sigma_c, \\sigma_z)$ such that $(1, \\widehat{\\kappa}^{-1})\\sigma\\sigma'(1, \\widehat{\\kappa}^{-1})'$ is equal to the VAR implied covariance matrix of the one-step-ahead forecast error for consumption growth and expected long-term consumption growth. We achieve identification by imposing a lower triangular structure with positive diagonal elements on $\\sigma$."
   ]
  },
  {
   "cell_type": "code",
   "execution_count": 6,
   "metadata": {
    "ExecuteTime": {
     "end_time": "2020-01-06T15:52:36.972000-06:00",
     "start_time": "2020-01-06T21:52:36.931Z"
    }
   },
   "outputs": [],
   "source": [
    "#==============================================================================#\n",
    "#    PARAMETERS\n",
    "#==============================================================================#\n",
    "delta = 0.002;\n",
    "\n",
    "# (1) Baseline model\n",
    "alpha_z_hat = 0.0;\n",
    "kappa_hat = 0.014;\n",
    "\n",
    "alpha_c_hat = 0.484;       # consumption intercept (estimated) \n",
    "beta_hat = 1.0;\n",
    "sigma_c = [0.477, 0.0  ];   # consumption exposure (= exposure of single capital)\n",
    "sigma_z = [0.011, 0.025];"
   ]
  },
  {
   "cell_type": "markdown",
   "metadata": {},
   "source": [
    "## Single Capital Stock Case"
   ]
  },
  {
   "cell_type": "markdown",
   "metadata": {},
   "source": [
    "### Parameter alternatives\n",
    "\n",
    "A planner is concerned about  alternative models for  capital evolution than baseline model $(1)$ in the following parametric class\n",
    "\n",
    "\\begin{align}\n",
    "d \\log K_t &= \\left[D_t - \\frac{\\phi}{2}\\left(D_t\\right)^2 + (.01)\\left( \\alpha_k +  \\beta Z_t \\right) - {\\frac {(.01)^2 |\\sigma_k|^2}2 } \\right] dt + (.01)\\sigma_k \\cdot dW^H_t \\label{eqn:model2} \\\\\n",
    "dZ_t &= \\left(\\alpha_z - \\kappa Z_t \\right)dt + \\sigma_z \\cdot dW^H_t \\nonumber\n",
    "\\tag{2}\n",
    "\\end{align}\n",
    "\n",
    "where $W^H$ denotes a distorted shock process of the form:\n",
    "\n",
    "\\begin{equation}\n",
    "dW_t = H_t dt + d{W}_t^H,\n",
    "\\end{equation}\n",
    "\n",
    "Uncertainty about $(\\alpha_k,\\beta)$ describes unknown components in  returns to investment while uncertainty about $(\\alpha_z,\\kappa)$ captures an unknown growth evolution process. We represent a model of the form $(2)$ by restricting the drift distortion $H$ for $W$ to satisfy\n",
    "\n",
    "\\begin{equation}\\label{eq:affine_drift}\n",
    "H_t = \\eta(X_t) \\doteq {\\eta }_0  + {\\eta }_1 Z_t\n",
    "\\end{equation}\n",
    "\n",
    "and using $(1)$  and  $(2)$ to deduce the following restrictions on $\\eta_0$ and $\\eta_1$ as functions of $(\\alpha_k, \\beta, \\alpha_z,  \\kappa)$:\n",
    "\\begin{align}\n",
    "\\sigma {\\eta}_0  = \\begin{bmatrix} {\\alpha}_k - {\\widehat \\alpha}_k \\cr {\\alpha}_z  -{\\widehat \\alpha}_z \\end{bmatrix}, \\hspace{2cm}\n",
    "\\sigma {\\eta}_1  = \\begin{bmatrix} \\beta - {\\widehat \\beta}  \\cr {\\widehat \\kappa} - { \\kappa}  \\end{bmatrix}\n",
    "\\tag{3}\n",
    "\\end{align}\n",
    "where\n",
    "\\begin{align}\n",
    "\\sigma \\doteq \\begin{bmatrix} (\\sigma_k)' \\cr (\\sigma_z)' \\end{bmatrix} .\n",
    "\\end{align}\n",
    "\n",
    "Pairs $(\\eta_0, \\eta_1)$ that satisfy restrictions $(3)$ represent models having parametric form $(2)$."
   ]
  },
  {
   "cell_type": "markdown",
   "metadata": {},
   "source": [
    "### Planner's Problem\n",
    "\n",
    "To capture a desire for robustness to parametric misspecifications represented by the class $(2)$, we suppose that the twisting function has the form $(4)$ and seek a function $V(z, k; \\ell) = \\log k + \\nu(z; \\ell)$ that satisfies the robust planner's HJB equation\n",
    "\\begin{align}\\label{hjb:robust}\n",
    "0 = & \\max_{d} \\min_{h} \\ \\ - \\delta \\nu(z; \\ell) + \\delta \\log ({\\mathcal A} - d) + \\left[d - {\\frac {\\phi} 2} d^2 +  (.01) \\left({\\widehat \\alpha}_k + {\\widehat \\beta} z - \\frac{(.01)|\\sigma_k^2|}{2}\\right)\\right] \\cr\n",
    "& \\quad\\quad + \\frac{\\partial \\nu(z; \\ell)}{ \\partial z}\\left( {\\widehat \\alpha}_z -{\\widehat \\kappa} z \\right) + \\frac{1}{2}\\frac{ \\partial^2 \\nu(z; \\ell)}{\\partial z^2} |\\sigma_z|^2 \\nonumber \\\\\n",
    "& \\quad\\quad + (.01) \\left[\\sigma_k \\cdot h\\right] + \\frac{\\partial \\nu(z; \\ell)}{\\partial z}\\left[\\sigma_z \\cdot h\\right]  +  \\frac{\\ell}{2}\\left[ |h|^2 - \\xi(z) \\right].\n",
    "\\tag{5}\n",
    "\\end{align}\n",
    "\n",
    "The last line of $(5)$ depicts how concerns about robustness enter the HJB equation via $h$. The minimizing choice of $h$ depends on the state $z$ through the marginal value function:\n",
    "\n",
    "\\begin{align}\n",
    "H^*(z; \\ell) & \\doteq \\begin{bmatrix}h^*_k \\\\ h^*_z \\end{bmatrix} = -\\frac{1}{\\ell}\\left[ (.01) \\sigma_k + \\frac{\\partial  \\nu(z ; \\ell)}{\\partial z}\\sigma_z  \\right]. \\tag{6}\n",
    "\\end{align}\n",
    "\n",
    "The  maximizing choice of $d$ solves:\n",
    "\n",
    "\\begin{align}\\label{eqn:d_star}\n",
    " 1 - \\phi d^* =   {\\frac \\delta  {{\\mathcal A} - d^*}}\n",
    "\\end{align}\n",
    "\n",
    "where $d^*$ denotes the chosen investment-capital ratio. Notice that  $d^*$ is constant and does not depend on the underlying state variables, so the optimal consumption-capital ratio $c^*=\\mathcal{A}-d^*$ is also constant. Because neither $c^*$ nor $d^*$ is affected by\n",
    "robustness concerns,  under the baseline model capital and  consumption dynamics are not altered by robustness concerns. We write the implied dynamics for the logarithm of consumption as:\n",
    "\n",
    "\\begin{align}\n",
    "d \\log C_t  = (.01)\\left({\\widehat \\alpha}_c  +  {\\widehat \\beta} Z_t\\right) dt + (.01)\\sigma_c \\cdot dW_t \\label{eq:baseline_consumption}\n",
    "\\end{align}\n",
    "\n",
    "where\n",
    "\n",
    "\\begin{align}\\label{eq:alpha_c}\n",
    "  {\\widehat \\alpha_c} = 100\\left(d^* - \\frac{\\phi}{2}\\left(d^*\\right)^2\\right) +  {\\widehat \\alpha}_k  - {\\frac {(.01) |\\sigma_k|^2}2 } \\hspace{15mm}\\text{and}\\hspace{15mm} \\sigma_c = \\sigma_k.\n",
    "\\end{align}"
   ]
  },
  {
   "cell_type": "markdown",
   "metadata": {},
   "source": [
    "In Appendix C.1, we show that the value function $\\nu(z; \\ell)$ is quadratic in $z$. As a consequence, $h^*$ is affine in $z$. The multiplier $\\ell^*$ is then determined by solving\n",
    "\n",
    "\\begin{align*}\n",
    "\\ell^*(z_0) = \\arg\\max_{\\ell>0} \\ \\nu(z_0; \\ell)\n",
    "\\end{align*}\n",
    "\n",
    "where $z_0$ is an initial value of $Z$. We can find the worst-case model by substituting $\\ell^*(z_0)$ in equation $(6)$.\n",
    "\n",
    "For codes solving planner's problem in single stock capital model, please refer to __newsets_singlecapital.jl__ under __code__ folder"
   ]
  },
  {
   "cell_type": "code",
   "execution_count": null,
   "metadata": {},
   "outputs": [],
   "source": [
    "#===========================  CALIBRATION  ====================================#\n",
    "# consumption_investment = 3.1;\n",
    "# A, phi, alpha_k_hat, investment_capital = calibration2(40.,\n",
    "#                                             consumption_investment,\n",
    "#                                             alpha_c_hat, delta, sigma_c)\n",
    "\n",
    "\n",
    "A = 0.05\n",
    "phi = 28\n",
    "investment_capital, consumption_investment, alpha_k_hat = calibration3(phi,\n",
    "                                            A, delta, alpha_c_hat, sigma_c)\n",
    "\n",
    "println(\"  Calibrated values: A:\", A,\n",
    "        \"  phi: \", phi,\n",
    "        \"  alpha_k : \", alpha_k_hat,\n",
    "        \"  C/I : \", consumption_investment,\n",
    "        \"  I/K : \", investment_capital)\n",
    "println(\"=============================================================\")\n",
    "#==============================================================================#\n",
    "baseline = Baseline(alpha_z_hat, kappa_hat, sigma_z,\n",
    "                    alpha_c_hat, beta_hat, sigma_c, delta);\n",
    "technology = Technology(A, phi);\n",
    "\n",
    "# optimal investment-capital ratio:\n",
    "d_star = dstar_singlecapital(technology, baseline);\n",
    "\n",
    "# single capital case should give rise to observed consumption growth:\n",
    "alpha_c2 = 100*(d_star-phi*d_star^2/2)+alpha_k_hat-(0.01)*dot(sigma_c,sigma_c)/2;\n",
    "\n",
    "println(\"alpha_c_hat =\", baseline.alpha_k_hat,\n",
    "        \" technology parameters imply \", alpha_c2, '\\n');\n",
    "\n",
    "\n",
    "#=================== Table 1&2 ================================================#\n",
    "kappa_list = [0.01, 0.005];\n",
    "kappa_list2 = [0.014, 0.01, kappa_tilde];\n",
    "q_list = [0.1, 0.2];\n",
    "\n",
    "store_matrix = zeros(length(kappa_list)+length(kappa_list2)*length(q_list), 25);\n",
    "\n",
    "for ki=1:length(kappa_list)\n",
    "    H0, H1, ak, b, az, k, dc, re, q, l_star = worst_case(alpha_z_hat,\n",
    "                                                            kappa_list[ki],\n",
    "                                                            baseline.alpha_k_hat,\n",
    "                                                            baseline.beta_hat,\n",
    "                                                            baseline, technology);\n",
    "    store_matrix[ki, 1:4] = [q, alpha_z_hat, kappa_list[ki], baseline.beta_hat]\n",
    "    store_matrix[ki, 5:11] = [ak, b, az, k, dc, re, q];\n",
    "    res = optimize(r -> chernoff_objective_single(r, H0, H1, baseline), 0.0, 1.0);\n",
    "    chernoff = - Optim.minimum(res)\n",
    "    if chernoff == 0.0\n",
    "        halflife = Inf\n",
    "    else\n",
    "        halflife = log(2.0) / chernoff\n",
    "    end\n",
    "    store_matrix[ki, 12:13] = [chernoff, halflife];\n",
    "    q, re, c, hl = worrisome_entropy(alpha_z_hat, kappa_list[ki],\n",
    "                                        baseline.alpha_k_hat, baseline.beta_hat, baseline);\n",
    "    store_matrix[ki, 14:17] = [q, re, c, hl]\n",
    "    store_matrix[ki, 18:19] = H0'\n",
    "    store_matrix[ki, 20:21] = H1'\n",
    "    store_matrix[ki, 22] = l_star\n",
    "    x0, x1, x2 = tilting_function(Worrisome(alpha_z_hat,\n",
    "                                            kappa_list[ki],\n",
    "                                            baseline.alpha_k_hat,\n",
    "                                            baseline.beta_hat), baseline)\n",
    "    store_matrix[ki, 23:25] = [x0, x1, x2]\n",
    "end\n",
    "\n",
    "for ki=1:length(kappa_list2)\n",
    "    for qi=1:length(q_list)\n",
    "        alpha_tilde, wc = choose_alpha(q_list[qi],kappa_list2[ki],\n",
    "                                baseline.alpha_k_hat,baseline.beta_hat,baseline,technology);\n",
    "        H0, H1, ak, b, az, k, dc, re, q, l_star = wc;\n",
    "\n",
    "        row_index = length(kappa_list) + (ki-1)*length(q_list) + qi\n",
    "        store_matrix[row_index, 1:4] = [q, alpha_tilde, kappa_list2[ki], baseline.beta_hat];\n",
    "        store_matrix[row_index, 5:11] = [ak, b, az, k, dc, re, q];\n",
    "        res = optimize(r -> chernoff_objective_single(r,H0,H1,baseline), 0.0, 1.0);\n",
    "        chernoff = - Optim.minimum(res)\n",
    "        if chernoff == 0.0\n",
    "            halflife = Inf\n",
    "        else\n",
    "            halflife = log(2.0) / chernoff\n",
    "        end\n",
    "        store_matrix[row_index, 12:13] = [chernoff, halflife];\n",
    "        q, re, c, hl = worrisome_entropy(alpha_tilde, kappa_list2[ki],\n",
    "                                        baseline.alpha_k_hat, baseline.beta_hat, baseline);\n",
    "        store_matrix[row_index, 14:17] = [q, re, c, hl]\n",
    "        store_matrix[row_index, 18:19] = H0'\n",
    "        store_matrix[row_index, 20:21] = H1'\n",
    "        store_matrix[row_index, 22] = l_star\n",
    "        x0, x1, x2 = tilting_function(Worrisome(alpha_tilde,\n",
    "                                                kappa_list2[ki],\n",
    "                                                baseline.alpha_k_hat,\n",
    "                                                baseline.beta_hat), baseline)\n",
    "        store_matrix[row_index, 23:25] = [x0, x1, x2]\n",
    "    end\n",
    "end\n",
    "\n",
    "store_matrix2 = zeros(length(kappa_list2[2:end])*length(q_list), 25);\n",
    "\n",
    "for ki=1:length(kappa_list2[2:end])\n",
    "    for qi=1:length(q_list)\n",
    "        row_index = (ki-1)*length(q_list) + qi\n",
    "\n",
    "        # alpha_z_tilde = minimum_xi(store_matrix[length(kappa_list) + row_index , 2],\n",
    "        #                            alpha_z_hat, sigma_z)\n",
    "        alpha_z_tilde = store_matrix[length(kappa_list) + 2 + row_index , 2]\n",
    "        beta_tilde, wc = choose_beta(q_list[qi], alpha_z_tilde, baseline.kappa_hat,\n",
    "                                    baseline.alpha_k_hat, baseline, technology);\n",
    "        H0, H1, ak, b, az, k, dc, re, q, l_star = wc;\n",
    "\n",
    "        store_matrix2[row_index, 1:4] = [q, alpha_z_tilde, baseline.kappa_hat, beta_tilde];\n",
    "        store_matrix2[row_index, 5:11] = [ak, b, az, k, dc, re, q];\n",
    "        res = optimize(r -> chernoff_objective_single(r,H0,H1,baseline), 0.0, 1.0);\n",
    "        chernoff = - Optim.minimum(res)\n",
    "        if chernoff == 0.0\n",
    "            halflife = Inf\n",
    "        else\n",
    "            halflife = log(2.0) / chernoff\n",
    "        end\n",
    "        store_matrix2[row_index, 12:13] = [chernoff, halflife];\n",
    "        q, re, c, hl = worrisome_entropy(alpha_z_tilde, baseline.kappa_hat,\n",
    "                                        baseline.alpha_k_hat, beta_tilde, baseline);\n",
    "        store_matrix2[row_index, 14:17] = [q, re, c, hl]\n",
    "        store_matrix2[row_index, 18:19] = H0'\n",
    "        store_matrix2[row_index, 20:21] = H1'\n",
    "        store_matrix2[row_index, 22] = l_star\n",
    "        x0, x1, x2 = tilting_function(Worrisome(alpha_z_tilde,\n",
    "                                                baseline.kappa_hat,\n",
    "                                                baseline.alpha_k_hat,\n",
    "                                                beta_tilde), baseline)\n",
    "        store_matrix2[row_index, 23:25] = [x0, x1, x2]\n",
    "\n",
    "    end\n",
    "end\n",
    "npzwrite(\"./data/model_singlecapital.npz\", vcat(store_matrix, store_matrix2))"
   ]
  }
 ],
 "metadata": {
  "kernelspec": {
   "display_name": "Julia 1.3.1",
   "language": "julia",
   "name": "julia-1.3"
  },
  "language_info": {
   "file_extension": ".jl",
   "mimetype": "application/julia",
   "name": "julia",
   "version": "1.3.1"
  },
  "toc": {
   "base_numbering": 1,
   "nav_menu": {},
   "number_sections": true,
   "sideBar": true,
   "skip_h1_title": true,
   "title_cell": "Table of Contents",
   "title_sidebar": "Contents",
   "toc_cell": true,
   "toc_position": {},
   "toc_section_display": true,
   "toc_window_display": true
  },
  "varInspector": {
   "cols": {
    "lenName": 16,
    "lenType": 16,
    "lenVar": 40
   },
   "kernels_config": {
    "python": {
     "delete_cmd_postfix": "",
     "delete_cmd_prefix": "del ",
     "library": "var_list.py",
     "varRefreshCmd": "print(var_dic_list())"
    },
    "r": {
     "delete_cmd_postfix": ") ",
     "delete_cmd_prefix": "rm(",
     "library": "var_list.r",
     "varRefreshCmd": "cat(var_dic_list()) "
    }
   },
   "types_to_exclude": [
    "module",
    "function",
    "builtin_function_or_method",
    "instance",
    "_Feature"
   ],
   "window_display": false
  }
 },
 "nbformat": 4,
 "nbformat_minor": 2
}
