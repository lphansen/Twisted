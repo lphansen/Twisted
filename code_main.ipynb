{
 "cells": [
  {
   "cell_type": "code",
   "execution_count": 9,
   "metadata": {},
   "outputs": [],
   "source": [
    "# Han: please add the following instructions to README file. \n",
    "# 1) pip install julia\n",
    "# 2) add julia to PATH: \n",
    "    # a) Mac user: \n",
    "        # i) type in terminal: PATH=\"/Applications/Julia-1.3.app/Contents/Resources/julia/bin/:${PATH}\"\n",
    "        # ii) type in terminal: export PATH\n",
    "        # Note: remember to change the version of Julia in the path of i) if your Julia version is not 1.3 \n",
    "    # b) Windows user:\n",
    "        # follow instructions here: http://wallyxie.com/weblog/adding-julia-windows-path-command-prompt/\n",
    "        # or https://en.wikibooks.org/wiki/Introducing_Julia/Getting_started"
   ]
  },
  {
   "cell_type": "code",
   "execution_count": null,
   "metadata": {},
   "outputs": [],
   "source": [
    "# Set up Julia environment\n",
    "import julia\n",
    "julia.install()\n",
    "from julia.api import Julia\n",
    "jl = Julia(compiled_modules=False)\n",
    "j = julia.Julia()"
   ]
  },
  {
   "cell_type": "code",
   "execution_count": 10,
   "metadata": {},
   "outputs": [],
   "source": [
    "# Solve Single Capital Model\n",
    "j.include(\"./code_new/newsets_singlecapital.jl\")\n",
    "singlecapital_results = j.singlecapital()"
   ]
  },
  {
   "cell_type": "code",
   "execution_count": 11,
   "metadata": {},
   "outputs": [],
   "source": [
    "# Solve Two Capital Model\n",
    "j.include(\"./code_new/newsets_twocapitals.jl\")\n",
    "twocapitals_results = j.twocapitals()"
   ]
  }
 ],
 "metadata": {
  "kernelspec": {
   "display_name": "Python 3",
   "language": "python",
   "name": "python3"
  },
  "language_info": {
   "codemirror_mode": {
    "name": "ipython",
    "version": 3
   },
   "file_extension": ".py",
   "mimetype": "text/x-python",
   "name": "python",
   "nbconvert_exporter": "python",
   "pygments_lexer": "ipython3",
   "version": "3.7.1"
  }
 },
 "nbformat": 4,
 "nbformat_minor": 2
}
